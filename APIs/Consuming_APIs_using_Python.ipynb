{
 "metadata": {
  "language_info": {
   "codemirror_mode": {
    "name": "ipython",
    "version": 3
   },
   "file_extension": ".py",
   "mimetype": "text/x-python",
   "name": "python",
   "nbconvert_exporter": "python",
   "pygments_lexer": "ipython3",
   "version": "3.7.6-final"
  },
  "orig_nbformat": 2,
  "kernelspec": {
   "name": "python3",
   "display_name": "Python 3.7.6 64-bit (conda)",
   "metadata": {
    "interpreter": {
     "hash": "7001fcd93f074860687356353637fa8a9bcfae26351191961070d25d38eb8654"
    }
   }
  }
 },
 "nbformat": 4,
 "nbformat_minor": 2,
 "cells": [
  {
   "source": [
    "## Python & APIs: A Winning Combo for Reading Public Data"
   ],
   "cell_type": "markdown",
   "metadata": {}
  },
  {
   "source": [
    "When consuming APIs with Python, there’s only one library you need: __requests__. With it, you should be able to do most, if not all, of the actions required to consume any public API."
   ],
   "cell_type": "markdown",
   "metadata": {}
  },
  {
   "source": [
    "### Calling Your First API Using Python\n",
    "we will be  calling a popular API for generating random user data.\n",
    "\n",
    "Link: https://randomuser.me/ (A free, open-source API for generating random user data. Like Lorem Ipsum, but for people.)\n",
    "\n",
    "### Random User Generator API: \n",
    "This is a great tool for generating random user data. You can use it to generate any number of random users and associated data, and you can also specify gender, nationality, and many other filters that can be really helpful when testing apps or, in this case, APIs."
   ],
   "cell_type": "markdown",
   "metadata": {}
  },
  {
   "cell_type": "code",
   "execution_count": 1,
   "metadata": {},
   "outputs": [
    {
     "output_type": "stream",
     "name": "stdout",
     "text": [
      "['ConnectTimeout', 'ConnectionError', 'DependencyWarning', 'FileModeWarning', 'HTTPError', 'NullHandler', 'PreparedRequest', 'ReadTimeout', 'Request', 'RequestException', 'RequestsDependencyWarning', 'Response', 'Session', 'Timeout', 'TooManyRedirects', 'URLRequired', '__author__', '__author_email__', '__build__', '__builtins__', '__cached__', '__cake__', '__copyright__', '__description__', '__doc__', '__file__', '__license__', '__loader__', '__name__', '__package__', '__path__', '__spec__', '__title__', '__url__', '__version__', '_check_cryptography', '_internal_utils', 'adapters', 'api', 'auth', 'certs', 'chardet', 'check_compatibility', 'codes', 'compat', 'cookies', 'delete', 'exceptions', 'get', 'head', 'hooks', 'logging', 'models', 'options', 'packages', 'patch', 'post', 'put', 'request', 'session', 'sessions', 'ssl', 'status_codes', 'structures', 'urllib3', 'utils', 'warnings']\n"
     ]
    }
   ],
   "source": [
    "# The only thing you need to start with the Random User Generator API is to know which URL to call it with. \n",
    "# For this example, the URL to use is https://randomuser.me/api/, and this is the tiniest API call you can make:\n",
    "import requests\n",
    "print(dir(requests))"
   ]
  },
  {
   "cell_type": "code",
   "execution_count": 2,
   "metadata": {},
   "outputs": [
    {
     "output_type": "execute_result",
     "data": {
      "text/plain": [
       "<Response [200]>"
      ]
     },
     "metadata": {},
     "execution_count": 2
    }
   ],
   "source": [
    "# fetch (or get) data from the URL for the Random User Generator API. \n",
    "# you don’t actually see any of the data returned. What you get instead is a Response [200], which in API terms means everything went OK.\n",
    "requests.get(\"https://randomuser.me/api/\")"
   ]
  },
  {
   "cell_type": "code",
   "execution_count": 3,
   "metadata": {},
   "outputs": [
    {
     "output_type": "execute_result",
     "data": {
      "text/plain": [
       "'{\"results\":[{\"gender\":\"female\",\"name\":{\"title\":\"Mademoiselle\",\"first\":\"Jessica\",\"last\":\"Michel\"},\"location\":{\"street\":{\"number\":7824,\"name\":\"Rue Principale\"},\"city\":\"Donneloye\",\"state\":\"Neuchâtel\",\"country\":\"Switzerland\",\"postcode\":3730,\"coordinates\":{\"latitude\":\"-51.8695\",\"longitude\":\"23.6177\"},\"timezone\":{\"offset\":\"-10:00\",\"description\":\"Hawaii\"}},\"email\":\"jessica.michel@example.com\",\"login\":{\"uuid\":\"7be1cf37-16a2-4ded-91d5-fd737648abf9\",\"username\":\"goldenwolf873\",\"password\":\"stalin\",\"salt\":\"ANk132vf\",\"md5\":\"ace5873eb869d3bbde85e6d0063799c2\",\"sha1\":\"59071da922811e6c8cb296723d8473e6e2d6f369\",\"sha256\":\"0e011ca24adcc64543d622d6c324ae19d812f49efbc1ce4403c1ec52f24a64a7\"},\"dob\":{\"date\":\"1970-09-23T16:50:38.243Z\",\"age\":51},\"registered\":{\"date\":\"2005-08-10T16:42:03.191Z\",\"age\":16},\"phone\":\"077 679 66 48\",\"cell\":\"075 289 93 99\",\"id\":{\"name\":\"AVS\",\"value\":\"756.9199.4806.01\"},\"picture\":{\"large\":\"https://randomuser.me/api/portraits/women/48.jpg\",\"medium\":\"https://randomuser.me/api/portraits/med/women/48.jpg\",\"thumbnail\":\"https://randomuser.me/api/portraits/thumb/women/48.jpg\"},\"nat\":\"CH\"}],\"info\":{\"seed\":\"7bcd33e4956da7ca\",\"results\":1,\"page\":1,\"version\":\"1.3\"}}'"
      ]
     },
     "metadata": {},
     "execution_count": 3
    }
   ],
   "source": [
    "# If you want to see the actual data, then you can use .text from the returned Response object:\n",
    "import requests\n",
    "response = requests.get('https://randomuser.me/api/')\n",
    "response.text"
   ]
  },
  {
   "cell_type": "code",
   "execution_count": 9,
   "metadata": {},
   "outputs": [],
   "source": [
    "import json \n",
    "json_str = json.dumps(response.json())\n",
    "\n",
    "# write the result into a json file\n",
    "with open('Random_User_API.json', 'w') as f:\n",
    "    f.write(json_str)"
   ]
  },
  {
   "source": [
    "## Endpoints and Resources\n",
    "the first thing you need to know for consuming an API is the __API URL__, typically called the __base URL__. The base URL structure is no different from the URLs you use for browsing Google, YouTube, or Facebook, though it usually contains the word api. This is not mandatory, just more of a rule of thumb.\n",
    "\n",
    "For example, here are the base URLs for a few well-known API players:\n",
    "\n",
    "1. https://api.twitter.com\n",
    "\n",
    "2. https://api.github.com\n",
    "\n",
    "3. https://api.stripe.com\n",
    "\n",
    "If you try opening any of the above links, then you’ll notice that most of them will return an error or ask for credentials. That’s because APIs sometimes require authentication steps before you can use them."
   ],
   "cell_type": "markdown",
   "metadata": {}
  },
  {
   "source": [
    "__TheDogAPI__: This API is quite fun but also a really good example of a well-done API with great documentation (https://thedogapi.com/). With it, you can fetch the different dog breeds and some images, but if you register, you can also cast votes on your favorite dogs."
   ],
   "cell_type": "markdown",
   "metadata": {}
  },
  {
   "source": [
    "Next, using the just-introduced __TheDogAPI__, you’ll try to make a basic request to see how it may differ from the __Random User Generator API__ you tried above:"
   ],
   "cell_type": "markdown",
   "metadata": {}
  },
  {
   "cell_type": "code",
   "execution_count": 10,
   "metadata": {},
   "outputs": [
    {
     "output_type": "execute_result",
     "data": {
      "text/plain": [
       "'{\"message\":\"The Dog API\"}'"
      ]
     },
     "metadata": {},
     "execution_count": 10
    }
   ],
   "source": [
    "import requests \n",
    "response = requests.get('https://api.thedogapi.com/')\n",
    "response.text"
   ]
  },
  {
   "source": [
    "In this case, when calling the base URL, you get this generic message saying __The Dog API__. This is because you’re calling the __base URL__, which is typically _used for very basic information about an API, not the real data_.\n",
    "\n",
    "Calling the __base URL__ alone isn’t a lot of fun, but that’s where __endpoints__ come in handy. An __endpoint__ is a _part of the URL that specifies what __resource__ you want to fetch_. Well-documented APIs usually contain an __API reference__, which is extremely useful for knowing the exact endpoints and resources an API has and how to use them.\n",
    "\n",
    "You can check the official documentation(https://docs.thedogapi.com/api-reference) to learn more about how to use __TheDogAPI__ and what __endpoints__ are available. In there, you’ll find a /breeds endpoint (https://docs.thedogapi.com/api-reference/breeds/breeds-list) that you can use to fetch all the available breed resources or objects."
   ],
   "cell_type": "markdown",
   "metadata": {}
  },
  {
   "cell_type": "code",
   "execution_count": 11,
   "metadata": {},
   "outputs": [
    {
     "output_type": "execute_result",
     "data": {
      "text/plain": [
       "},\"id\":193,\"name\":\"Pomeranian\",\"bred_for\":\"Companion\",\"breed_group\":\"Toy\",\"life_span\":\"15 years\",\"temperament\":\"Extroverted, Friendly, Sociable, Playful, Intelligent, Active\",\"reference_image_id\":\"HJd0XecNX\",\"image\":{\"id\":\"HJd0XecNX\",\"width\":800,\"height\":532,\"url\":\"https://cdn2.thedogapi.com/images/HJd0XecNX.jpg\"}},{\"weight\":{\"imperial\":\"15 - 17\",\"metric\":\"7 - 8\"},\"height\":{\"imperial\":\"11 - 15\",\"metric\":\"28 - 38\"},\"id\":196,\"name\":\"Poodle (Miniature)\",\"life_span\":\"12 – 15 years\",\"reference_image_id\":\"Hkxk4ecVX\",\"image\":{\"id\":\"Hkxk4ecVX\",\"width\":1280,\"height\":853,\"url\":\"https://cdn2.thedogapi.com/images/Hkxk4ecVX.jpg\"}},{\"weight\":{\"imperial\":\"6 - 9\",\"metric\":\"3 - 4\"},\"height\":{\"imperial\":\"9 - 11\",\"metric\":\"23 - 28\"},\"id\":197,\"name\":\"Poodle (Toy)\",\"life_span\":\"18 years\",\"reference_image_id\":\"rJFJVxc4m\",\"image\":{\"id\":\"rJFJVxc4m\",\"width\":620,\"height\":403,\"url\":\"https://cdn2.thedogapi.com/images/rJFJVxc4m.jpg\"}},{\"weight\":{\"imperial\":\"14 - 18\",\"metric\":\"6 - 8\"},\"height\":{\"imperial\":\"10 - 12\",\"metric\":\"25 - 30\"},\"id\":201,\"name\":\"Pug\",\"bred_for\":\"Lapdog\",\"breed_group\":\"Toy\",\"life_span\":\"12 - 14 years\",\"temperament\":\"Docile, Clever, Charming, Stubborn, Sociable, Playful, Quiet, Attentive\",\"reference_image_id\":\"HyJvcl9N7\",\"image\":{\"id\":\"HyJvcl9N7\",\"width\":800,\"height\":600,\"url\":\"https://cdn2.thedogapi.com/images/HyJvcl9N7.jpg\"}},{\"weight\":{\"imperial\":\"25 - 35\",\"metric\":\"11 - 16\"},\"height\":{\"imperial\":\"16 - 17\",\"metric\":\"41 - 43\"},\"id\":204,\"name\":\"Puli\",\"bred_for\":\"Herding\",\"breed_group\":\"Herding\",\"life_span\":\"12 - 16 Years years\",\"temperament\":\"Energetic, Agile, Loyal, Obedient, Intelligent, Faithful\",\"reference_image_id\":\"ryPgVl5N7\",\"image\":{\"id\":\"ryPgVl5N7\",\"width\":1199,\"height\":829,\"url\":\"https://cdn2.thedogapi.com/images/ryPgVl5N7.jpg\"}},{\"weight\":{\"imperial\":\"18 - 33\",\"metric\":\"8 - 15\"},\"height\":{\"imperial\":\"15 - 18.5\",\"metric\":\"38 - 47\"},\"id\":205,\"name\":\"Pumi\",\"breed_group\":\"Herding\",\"life_span\":\"13 - 15 years\",\"temperament\":\"Lively, Reserved, Intelligent, Active, Protective, Vocal\",\"reference_image_id\":\"SyRe4xcN7\",\"image\":{\"id\":\"SyRe4xcN7\",\"width\":695,\"height\":391,\"url\":\"https://cdn2.thedogapi.com/images/SyRe4xcN7.jpg\"}},{\"weight\":{\"imperial\":\"8 - 25\",\"metric\":\"4 - 11\"},\"height\":{\"imperial\":\"10 - 13\",\"metric\":\"25 - 33\"},\"id\":207,\"name\":\"Rat Terrier\",\"breed_group\":\"Terrier\",\"life_span\":\"12 - 18 years\",\"temperament\":\"Affectionate, Lively, Inquisitive, Alert, Intelligent, Loving\",\"reference_image_id\":\"HkXWNl9E7\",\"image\":{\"id\":\"HkXWNl9E7\",\"width\":825,\"height\":689,\"url\":\"https://cdn2.thedogapi.com/images/HkXWNl9E7.jpg\"}},{\"weight\":{\"imperial\":\"45 - 80\",\"metric\":\"20 - 36\"},\"height\":{\"imperial\":\"21 - 27\",\"metric\":\"53 - 69\"},\"id\":208,\"name\":\"Redbone Coonhound\",\"bred_for\":\"Hunting raccoon, deer, bear, and cougar.\",\"breed_group\":\"Hound\",\"life_span\":\"10 - 12 years\",\"temperament\":\"Affectionate, Energetic, Independent, Companionable, Familial, Unflappable\",\"reference_image_id\":\"HJMzEl5N7\",\"image\":{\"id\":\"HJMzEl5N7\",\"width\":1537,\"height\":1323,\"url\":\"https://cdn2.thedogapi.com/images/HJMzEl5N7.jpg\"}},{\"weight\":{\"imperial\":\"75 - 80\",\"metric\":\"34 - 36\"},\"height\":{\"imperial\":\"24 - 27\",\"metric\":\"61 - 69\"},\"id\":209,\"name\":\"Rhodesian Ridgeback\",\"bred_for\":\"Big game hunting, guarding\",\"breed_group\":\"Hound\",\"life_span\":\"10 - 12 years\",\"temperament\":\"Strong Willed, Mischievous, Loyal, Dignified, Sensitive, Intelligent\",\"reference_image_id\":\"By9zNgqE7\",\"image\":{\"id\":\"By9zNgqE7\",\"width\":1000,\"height\":667,\"url\":\"https://cdn2.thedogapi.com/images/By9zNgqE7.jpg\"}},{\"weight\":{\"imperial\":\"75 - 110\",\"metric\":\"34 - 50\"},\"height\":{\"imperial\":\"22 - 27\",\"metric\":\"56 - 69\"},\"id\":210,\"name\":\"Rottweiler\",\"bred_for\":\"Cattle drover, guardian, draft\",\"breed_group\":\"Working\",\"life_span\":\"8 - 10 years\",\"temperament\":\"Steady, Good-natured, Fearless, Devoted, Alert, Obedient, Confident, Self-assured, Calm, Courageous\",\"reference_image_id\":\"r1xXEgcNX\",\"image\":{\"id\":\"r1xXEgcNX\",\"width\":736,\"height\":595,\"url\":\"https://cdn2.thedogapi.com/images/r1xXEgcNX.jpg\"}},{\"weight\":{\"imperial\":\"3 - 6\",\"metric\":\"1 - 3\"},\"height\":{\"imperial\":\"7.5 - 10.5\",\"metric\":\"19 - 27\"},\"id\":211,\"name\":\"Russian Toy\",\"breed_group\":\"Toy\",\"life_span\":\"10 - 12 years\",\"reference_image_id\":\"HkP7Vxc4Q\",\"image\":{\"id\":\"HkP7Vxc4Q\",\"width\":645,\"height\":380,\"url\":\"https://cdn2.thedogapi.com/images/HkP7Vxc4Q.jpg\"}},{\"weight\":{\"imperial\":\"130 - 180\",\"metric\":\"59 - 82\"},\"height\":{\"imperial\":\"25.5 - 27.5\",\"metric\":\"65 - 70\"},\"id\":212,\"name\":\"Saint Bernard\",\"bred_for\":\"Draft, search, rescue\",\"breed_group\":\"Working\",\"life_span\":\"7 - 10 years\",\"temperament\":\"Friendly, Lively, Gentle, Watchful, Calm\",\"reference_image_id\":\"_Qf9nfRzL\",\"image\":{\"id\":\"_Qf9nfRzL\",\"width\":1080,\"height\":1084,\"url\":\"https://cdn2.thedogapi.com/images/_Qf9nfRzL.png\"}},{\"weight\":{\"imperial\":\"35 - 65\",\"metric\":\"16 - 29\"},\"height\":{\"imperial\":\"23 - 28\",\"metric\":\"58 - 71\"},\"id\":213,\"name\":\"Saluki\",\"bred_for\":\"Coursing gazelle and hare\",\"breed_group\":\"Hound\",\"life_span\":\"12 - 14 years\",\"temperament\":\"Aloof, Reserved, Intelligent, Quiet\",\"reference_image_id\":\"fjFIuehNo\",\"image\":{\"id\":\"fjFIuehNo\",\"width\":750,\"height\":450,\"url\":\"https://cdn2.thedogapi.com/images/fjFIuehNo.jpg\"}},{\"weight\":{\"imperial\":\"50 - 60\",\"metric\":\"23 - 27\"},\"height\":{\"imperial\":\"19 - 23.5\",\"metric\":\"48 - 60\"},\"id\":214,\"name\":\"Samoyed\",\"bred_for\":\"Herding reindeer, guardian, draft\",\"breed_group\":\"Working\",\"life_span\":\"12 - 14 years\",\"temperament\":\"Stubborn, Friendly, Sociable, Lively, Alert, Playful\",\"reference_image_id\":\"S1T8Ee9Nm\",\"image\":{\"id\":\"S1T8Ee9Nm\",\"width\":1200,\"height\":797,\"url\":\"https://cdn2.thedogapi.com/images/S1T8Ee9Nm.jpg\"}},{\"weight\":{\"imperial\":\"10 - 16\",\"metric\":\"5 - 7\"},\"height\":{\"imperial\":\"10 - 13\",\"metric\":\"25 - 33\"},\"id\":216,\"name\":\"Schipperke\",\"bred_for\":\"Barge watchdog\",\"breed_group\":\"Non-Sporting\",\"life_span\":\"13 - 15 years\",\"temperament\":\"Fearless, Agile, Curious, Independent, Confident, Faithful\",\"reference_image_id\":\"SyBvVgc47\",\"image\":{\"id\":\"SyBvVgc47\",\"width\":1024,\"height\":681,\"url\":\"https://cdn2.thedogapi.com/images/SyBvVgc47.jpg\"}},{\"weight\":{\"imperial\":\"70 - 130\",\"metric\":\"32 - 59\"},\"height\":{\"imperial\":\"28 - 32\",\"metric\":\"71 - 81\"},\"id\":218,\"name\":\"Scottish Deerhound\",\"bred_for\":\"Coursing deer\",\"breed_group\":\"Hound\",\"life_span\":\"8 - 10 years\",\"temperament\":\"Docile, Friendly, Dignified, Gentle\",\"reference_image_id\":\"SkNjqx9NQ\",\"image\":{\"id\":\"SkNjqx9NQ\",\"width\":700,\"height\":480,\"url\":\"https://cdn2.thedogapi.com/images/SkNjqx9NQ.jpg\"}},{\"weight\":{\"imperial\":\"18 - 22\",\"metric\":\"8 - 10\"},\"height\":{\"imperial\":\"10\",\"metric\":\"25\"},\"id\":219,\"name\":\"Scottish Terrier\",\"bred_for\":\"Vermin hunting\",\"breed_group\":\"Terrier\",\"life_span\":\"11 - 13 years\",\"temperament\":\"Feisty, Alert, Independent, Playful, Quick, Self-assured\",\"reference_image_id\":\"Bklnce5NX\",\"image\":{\"id\":\"Bklnce5NX\",\"width\":1280,\"height\":976,\"url\":\"https://cdn2.thedogapi.com/images/Bklnce5NX.jpg\"}},{\"weight\":{\"imperial\":\"30\",\"metric\":\"14\"},\"height\":{\"imperial\":\"13 - 16\",\"metric\":\"33 - 41\"},\"id\":221,\"name\":\"Shetland Sheepdog\",\"bred_for\":\"Sheep herding\",\"breed_group\":\"Herding\",\"life_span\":\"12 - 14 years\",\"temperament\":\"Affectionate, Lively, Responsive, Alert, Loyal, Reserved, Playful, Gentle, Intelligent, Active, Trainable, Strong\",\"reference_image_id\":\"rJa29l9E7\",\"image\":{\"id\":\"rJa29l9E7\",\"width\":824,\"height\":640,\"url\":\"https://cdn2.thedogapi.com/images/rJa29l9E7.jpg\"}},{\"weight\":{\"imperial\":\"17 - 23\",\"metric\":\"8 - 10\"},\"height\":{\"imperial\":\"13.5 - 16.5\",\"metric\":\"34 - 42\"},\"id\":222,\"name\":\"Shiba Inu\",\"bred_for\":\"Hunting in the mountains of Japan, Alert Watchdog\",\"breed_group\":\"Non-Sporting\",\"life_span\":\"12 - 16 years\",\"temperament\":\"Charming, Fearless, Keen, Alert, Confident, Faithful\",\"reference_image_id\":\"Zn3IjPX3f\",\"image\":{\"id\":\"Zn3IjPX3f\",\"width\":1080,\"height\":1080,\"url\":\"https://cdn2.thedogapi.com/images/Zn3IjPX3f.jpg\"}},{\"weight\":{\"imperial\":\"9 - 16\",\"metric\":\"4 - 7\"},\"height\":{\"imperial\":\"8 - 11\",\"metric\":\"20 - 28\"},\"id\":223,\"name\":\"Shih Tzu\",\"bred_for\":\"Lapdog\",\"breed_group\":\"Toy\",\"life_span\":\"10 - 18 years\",\"temperament\":\"Clever, Spunky, Outgoing, Friendly, Affectionate, Lively, Alert, Loyal, Independent, Playful, Gentle, Intelligent, Happy, Active, Courageous\",\"reference_image_id\":\"BkrJjgcV7\",\"image\":{\"id\":\"BkrJjgcV7\",\"width\":800,\"height\":600,\"url\":\"https://cdn2.thedogapi.com/images/BkrJjgcV7.jpg\"}},{\"weight\":{\"imperial\":\"120 - 140\",\"metric\":\"54 - 64\"},\"height\":{\"imperial\":\"26 - 30\",\"metric\":\"66 - 76\"},\"id\":225,\"name\":\"Shiloh Shepherd\",\"bred_for\":\"Swimming, Carrying backpacks, Pulling carts or sleds\",\"life_span\":\"9 – 14 years\",\"temperament\":\"Outgoing, Loyal, Companionable, Gentle, Loving, Trainable\",\"reference_image_id\":\"SJJxjecEX\",\"image\":{\"id\":\"SJJxjecEX\",\"width\":1005,\"height\":803,\"url\":\"https://cdn2.thedogapi.com/images/SJJxjecEX.jpg\"}},{\"weight\":{\"imperial\":\"35 - 60\",\"metric\":\"16 - 27\"},\"height\":{\"imperial\":\"20 - 23.5\",\"metric\":\"51 - 60\"},\"id\":226,\"name\":\"Siberian Husky\",\"bred_for\":\"Sled pulling\",\"breed_group\":\"Working\",\"life_span\":\"12 years\",\"temperament\":\"Outgoing, Friendly, Alert, Gentle, Intelligent\",\"reference_image_id\":\"S17ZilqNm\",\"image\":{\"id\":\"S17ZilqNm\",\"width\":1920,\"height\":1280,\"url\":\"https://cdn2.thedogapi.com/images/S17ZilqNm.jpg\"}},{\"weight\":{\"imperial\":\"8 - 10\",\"metric\":\"4 - 5\"},\"height\":{\"imperial\":\"9 - 10\",\"metric\":\"23 - 25\"},\"id\":228,\"name\":\"Silky Terrier\",\"bred_for\":\"Small vermin hunting, companionship\",\"breed_group\":\"Toy\",\"life_span\":\"12 - 15 years\",\"temperament\":\"Friendly, Responsive, Inquisitive, Alert, Quick, Joyful\",\"reference_image_id\":\"ByzGsl5Nm\",\"image\":{\"id\":\"ByzGsl5Nm\",\"width\":1599,\"height\":1142,\"url\":\"https://cdn2.thedogapi.com/images/ByzGsl5Nm.jpg\"}},{\"weight\":{\"imperial\":\"up - 18\",\"metric\":\"NaN - 8\"},\"height\":{\"imperial\":\"15.5\",\"metric\":\"39\"},\"id\":232,\"name\":\"Smooth Fox Terrier\",\"bred_for\":\"Fox bolting\",\"breed_group\":\"Terrier\",\"life_span\":\"12 - 14 years\",\"temperament\":\"Fearless, Affectionate, Alert, Playful, Intelligent, Active\",\"reference_image_id\":\"Syszjx9Em\",\"image\":{\"id\":\"Syszjx9Em\",\"width\":1600,\"height\":1031,\"url\":\"https://cdn2.thedogapi.com/images/Syszjx9Em.jpg\"}},{\"weight\":{\"imperial\":\"30 - 40\",\"metric\":\"14 - 18\"},\"height\":{\"imperial\":\"16 - 18\",\"metric\":\"41 - 46\"},\"id\":233,\"name\":\"Soft Coated Wheaten Terrier\",\"bred_for\":\"Vermin hunting, guarding, all-around farm helper\",\"breed_group\":\"Terrier\",\"life_span\":\"12 - 15 years\",\"temperament\":\"Affectionate, Spirited, Energetic, Playful, Intelligent, Faithful\",\"reference_image_id\":\"HJHmix5NQ\",\"image\":{\"id\":\"HJHmix5NQ\",\"width\":1200,\"height\":800,\"url\":\"https://cdn2.thedogapi.com/images/HJHmix5NQ.jpg\"}},{\"weight\":{\"imperial\":\"30 - 50\",\"metric\":\"14 - 23\"},\"height\":{\"imperial\":\"16 - 20\",\"metric\":\"41 - 51\"},\"id\":235,\"name\":\"Spanish Water Dog\",\"bred_for\":\"Herding flocks of sheep and goats from one pasture to another\",\"breed_group\":\"Sporting\",\"life_span\":\"12 - 15 years\",\"temperament\":\"Trainable, Diligent, Affectionate, Loyal, Athletic, Intelligent\",\"reference_image_id\":\"HJf4jl9VX\",\"image\":{\"id\":\"HJf4jl9VX\",\"width\":1200,\"height\":922,\"url\":\"https://cdn2.thedogapi.com/images/HJf4jl9VX.jpg\"}},{\"weight\":{\"imperial\":\"61 - 85\",\"metric\":\"28 - 39\"},\"height\":{\"imperial\":\"22.5 - 27.5\",\"metric\":\"57 - 70\"},\"id\":236,\"name\":\"Spinone Italiano\",\"breed_group\":\"Sporting\",\"life_span\":\"10 - 12 years\",\"temperament\":\"Docile, Friendly, Affectionate, Loyal, Patient, Gentle\",\"reference_image_id\":\"rk5Eoe5Nm\",\"image\":{\"id\":\"rk5Eoe5Nm\",\"width\":1030,\"height\":772,\"url\":\"https://cdn2.thedogapi.com/images/rk5Eoe5Nm.jpg\"}},{\"weight\":{\"imperial\":\"24 - 38\",\"metric\":\"11 - 17\"},\"height\":{\"imperial\":\"14 - 16\",\"metric\":\"36 - 41\"},\"id\":238,\"name\":\"Staffordshire Bull Terrier\",\"bred_for\":\"\",\"breed_group\":\"Terrier\",\"life_span\":\"12 - 14 years\",\"temperament\":\"Reliable, Fearless, Bold, Affectionate, Loyal, Intelligent, Courageous\",\"reference_image_id\":\"H1zSie9V7\",\"image\":{\"id\":\"H1zSie9V7\",\"width\":1280,\"height\":852,\"url\":\"https://cdn2.thedogapi.com/images/H1zSie9V7.jpg\"}},{\"weight\":{\"imperial\":\"30 - 50\",\"metric\":\"14 - 23\"},\"height\":{\"imperial\":\"17.5 - 19.5\",\"metric\":\"44 - 50\"},\"id\":239,\"name\":\"Standard Schnauzer\",\"bred_for\":\"Ratting, guarding\",\"breed_group\":\"Working\",\"life_span\":\"13 - 15 years\",\"temperament\":\"Trainable, Good-natured, Devoted, Lively, Playful, Intelligent\",\"reference_image_id\":\"tmzeu6ID_\",\"image\":{\"id\":\"tmzeu6ID_\",\"width\":650,\"height\":585,\"url\":\"https://cdn2.thedogapi.com/images/tmzeu6ID_.jpg\"}},{\"weight\":{\"imperial\":\"20 - 30\",\"metric\":\"9 - 14\"},\"height\":{\"imperial\":\"11.5 - 13.5\",\"metric\":\"29 - 34\"},\"id\":242,\"name\":\"Swedish Vallhund\",\"breed_group\":\"Herding\",\"life_span\":\"12 - 14 years\",\"temperament\":\"Fearless, Friendly, Energetic, Alert, Intelligent, Watchful\",\"reference_image_id\":\"HJ-Dix94Q\",\"image\":{\"id\":\"HJ-Dix94Q\",\"width\":1280,\"height\":851,\"url\":\"https://cdn2.thedogapi.com/images/HJ-Dix94Q.jpg\"}},{\"weight\":{\"imperial\":\"35 - 55\",\"metric\":\"16 - 25\"},\"height\":{\"imperial\":\"20 - 24\",\"metric\":\"51 - 61\"},\"id\":243,\"name\":\"Thai Ridgeback\",\"breed_group\":\"Hound\",\"life_span\":\"10 - 12 years\",\"temperament\":\"Protective, Loyal, Independent, Intelligent, Loving, Familial\",\"reference_image_id\":\"zv89hR-O8\",\"image\":{\"id\":\"zv89hR-O8\",\"width\":1080,\"height\":720,\"url\":\"https://cdn2.thedogapi.com/images/zv89hR-O8.jpg\"}},{\"weight\":{\"imperial\":\"85 - 140\",\"metric\":\"39 - 64\"},\"height\":{\"imperial\":\"24 - 26\",\"metric\":\"61 - 66\"},\"id\":244,\"name\":\"Tibetan Mastiff\",\"breed_group\":\"Working\",\"life_span\":\"10 - 14 years\",\"temperament\":\"Strong Willed, Tenacious, Aloof, Stubborn, Intelligent, Protective\",\"reference_image_id\":\"SkM9sec47\",\"image\":{\"id\":\"SkM9sec47\",\"width\":1600,\"height\":1375,\"url\":\"https://cdn2.thedogapi.com/images/SkM9sec47.jpg\"}},{\"weight\":{\"imperial\":\"9 - 15\",\"metric\":\"4 - 7\"},\"height\":{\"imperial\":\"10\",\"metric\":\"25\"},\"id\":245,\"name\":\"Tibetan Spaniel\",\"breed_group\":\"Non-Sporting\",\"life_span\":\"12 - 15 years\",\"temperament\":\"Willful, Aloof, Assertive, Independent, Playful, Intelligent, Happy\",\"reference_image_id\":\"Hyjcol947\",\"image\":{\"id\":\"Hyjcol947\",\"width\":1023,\"height\":825,\"url\":\"https://cdn2.thedogapi.com/images/Hyjcol947.jpg\"}},{\"weight\":{\"imperial\":\"20 - 24\",\"metric\":\"9 - 11\"},\"height\":{\"imperial\":\"14 - 17\",\"metric\":\"36 - 43\"},\"id\":246,\"name\":\"Tibetan Terrier\",\"bred_for\":\"Good luck charms, mascots, watchdogs, herding dogs, and companions\",\"breed_group\":\"Non-Sporting\",\"life_span\":\"12 - 15 years\",\"temperament\":\"Affectionate, Energetic, Amiable, Reserved, Gentle, Sensitive\",\"reference_image_id\":\"6f5n_42mB\",\"image\":{\"id\":\"6f5n_42mB\",\"width\":981,\"height\":1226,\"url\":\"https://cdn2.thedogapi.com/images/6f5n_42mB.jpg\"}},{\"weight\":{\"imperial\":\"4 - 9\",\"metric\":\"2 - 4\"},\"height\":{\"imperial\":\"8 - 11\",\"metric\":\"20 - 28\"},\"id\":248,\"name\":\"Toy Fox Terrier\",\"breed_group\":\"Toy\",\"life_span\":\"12 - 15 years\",\"temperament\":\"Friendly, Spirited, Alert, Loyal, Playful, Intelligent\",\"reference_image_id\":\"B17ase9V7\",\"image\":{\"id\":\"B17ase9V7\",\"width\":1200,\"height\":1024,\"url\":\"https://cdn2.thedogapi.com/images/B17ase9V7.jpg\"}},{\"weight\":{\"imperial\":\"45 - 80\",\"metric\":\"20 - 36\"},\"height\":{\"imperial\":\"20 - 27\",\"metric\":\"51 - 69\"},\"id\":250,\"name\":\"Treeing Walker Coonhound\",\"breed_group\":\"Hound\",\"life_span\":\"10 - 13 years\",\"temperament\":\"Clever, Affectionate, Confident, Intelligent, Loving, Trainable\",\"reference_image_id\":\"SkRpsgc47\",\"image\":{\"id\":\"SkRpsgc47\",\"width\":1920,\"height\":1080,\"url\":\"https://cdn2.thedogapi.com/images/SkRpsgc47.jpg\"}},{\"weight\":{\"imperial\":\"50 - 65\",\"metric\":\"23 - 29\"},\"height\":{\"imperial\":\"21 - 24\",\"metric\":\"53 - 61\"},\"id\":251,\"name\":\"Vizsla\",\"bred_for\":\"Pointing and trailing\",\"breed_group\":\"Sporting\",\"life_span\":\"10 - 14 years\",\"temperament\":\"Affectionate, Energetic, Loyal, Gentle, Quiet\",\"reference_image_id\":\"r1o0jx9Em\",\"image\":{\"id\":\"r1o0jx9Em\",\"width\":2269,\"height\":1276,\"url\":\"https://cdn2.thedogapi.com/images/r1o0jx9Em.jpg\"}},{\"weight\":{\"imperial\":\"55 - 90\",\"metric\":\"25 - 41\"},\"height\":{\"imperial\":\"23 - 27\",\"metric\":\"58 - 69\"},\"id\":253,\"name\":\"Weimaraner\",\"bred_for\":\"Large game trailing and versatile gundog\",\"breed_group\":\"Sporting\",\"life_span\":\"12 - 15 years\",\"temperament\":\"Steady, Aloof, Stubborn, Energetic, Alert, Intelligent, Powerful, Fast\",\"reference_image_id\":\"SyU12l9V7\",\"image\":{\"id\":\"SyU12l9V7\",\"width\":901,\"height\":954,\"url\":\"https://cdn2.thedogapi.com/images/SyU12l9V7.jpg\"}},{\"weight\":{\"imperial\":\"35 - 55\",\"metric\":\"16 - 25\"},\"height\":{\"imperial\":\"17 - 19\",\"metric\":\"43 - 48\"},\"id\":254,\"name\":\"Welsh Springer Spaniel\",\"bred_for\":\"Flushing and retrieving birds\",\"breed_group\":\"Sporting\",\"life_span\":\"12 - 15 years\",\"temperament\":\"Stubborn, Friendly, Affectionate, Loyal, Playful, Active\",\"reference_image_id\":\"BJ1gnx5Vm\",\"image\":{\"id\":\"BJ1gnx5Vm\",\"width\":1331,\"height\":944,\"url\":\"https://cdn2.thedogapi.com/images/BJ1gnx5Vm.jpg\"}},{\"weight\":{\"imperial\":\"15 - 22\",\"metric\":\"7 - 10\"},\"height\":{\"imperial\":\"10 - 11\",\"metric\":\"25 - 28\"},\"id\":256,\"name\":\"West Highland White Terrier\",\"bred_for\":\"Fox, badger, vermin hunting\",\"breed_group\":\"Terrier\",\"life_span\":\"15 - 20 years\",\"temperament\":\"Hardy, Friendly, Alert, Independent, Gay, Active, Courageous\",\"reference_image_id\":\"Bkdx2g5Em\",\"image\":{\"id\":\"Bkdx2g5Em\",\"width\":1065,\"height\":1032,\"url\":\"https://cdn2.thedogapi.com/images/Bkdx2g5Em.jpg\"}},{\"weight\":{\"imperial\":\"25 - 35\",\"metric\":\"11 - 16\"},\"height\":{\"imperial\":\"18 - 22\",\"metric\":\"46 - 56\"},\"id\":257,\"name\":\"Whippet\",\"bred_for\":\"Coursing, racing\",\"breed_group\":\"Hound\",\"life_span\":\"12 - 15 years\",\"temperament\":\"Friendly, Affectionate, Lively, Gentle, Intelligent, Quiet\",\"reference_image_id\":\"Hyv-ne94m\",\"image\":{\"id\":\"Hyv-ne94m\",\"width\":1600,\"height\":1071,\"url\":\"https://cdn2.thedogapi.com/images/Hyv-ne94m.jpg\"}},{\"weight\":{\"imperial\":\"60 - 85\",\"metric\":\"27 - 39\"},\"height\":{\"imperial\":\"22 - 25\",\"metric\":\"56 - 64\"},\"id\":258,\"name\":\"White Shepherd\",\"life_span\":\"12 – 14 years\",\"temperament\":\"Self-confidence, Aloof, Fearless, Alert, Companionable, Eager\",\"reference_image_id\":\"r14M3e9E7\",\"image\":{\"id\":\"r14M3e9E7\",\"width\":1200,\"height\":800,\"url\":\"https://cdn2.thedogapi.com/images/r14M3e9E7.jpg\"}},{\"weight\":{\"imperial\":\"15 - 19\",\"metric\":\"7 - 9\"},\"height\":{\"imperial\":\"13 - 16\",\"metric\":\"33 - 41\"},\"id\":259,\"name\":\"Wire Fox Terrier\",\"bred_for\":\"Vermin hunting, fox bolting\",\"life_span\":\"13 – 14 years\",\"history\":\" England\",\"temperament\":\"Fearless, Friendly, Bold, Keen, Alert, Quick\",\"reference_image_id\":\"SJ6f2g9EQ\",\"image\":{\"id\":\"SJ6f2g9EQ\",\"width\":1000,\"height\":795,\"url\":\"https://cdn2.thedogapi.com/images/SJ6f2g9EQ.jpg\"}},{\"weight\":{\"imperial\":\"45 - 70\",\"metric\":\"20 - 32\"},\"height\":{\"imperial\":\"20 - 24\",\"metric\":\"51 - 61\"},\"id\":260,\"name\":\"Wirehaired Pointing Griffon\",\"bred_for\":\"Gundog, \\\\\"swamp-tromping\\\\\", Flushing, pointing, and retrieving water fowl & game birds\",\"breed_group\":\"Sporting\",\"life_span\":\"12 - 14 years\",\"temperament\":\"Loyal, Gentle, Vigilant, Trainable, Proud\",\"reference_image_id\":\"Bkam2l9Vm\",\"image\":{\"id\":\"Bkam2l9Vm\",\"width\":2328,\"height\":1604,\"url\":\"https://cdn2.thedogapi.com/images/Bkam2l9Vm.jpg\"}},{\"weight\":{\"imperial\":\"45 - 65\",\"metric\":\"20 - 29\"},\"height\":{\"imperial\":\"21.5 - 25\",\"metric\":\"55 - 64\"},\"id\":261,\"name\":\"Wirehaired Vizsla\",\"breed_group\":\"Sporting\",\"life_span\":\"12 - 14 years\",\"reference_image_id\":\"r1I4hl5Em\",\"image\":{\"id\":\"r1I4hl5Em\",\"width\":1024,\"height\":770,\"url\":\"https://cdn2.thedogapi.com/images/r1I4hl5Em.jpg\"}},{\"weight\":{\"imperial\":\"9 - 31\",\"metric\":\"4 - 14\"},\"height\":{\"imperial\":\"10 - 23\",\"metric\":\"25 - 58\"},\"id\":262,\"name\":\"Xoloitzcuintli\",\"breed_group\":\"Non-Sporting\",\"life_span\":\"12 - 14 years\",\"temperament\":\"Cheerful, Alert, Companionable, Intelligent, Protective, Calm\",\"reference_image_id\":\"HkNS3gqEm\",\"image\":{\"id\":\"HkNS3gqEm\",\"width\":1500,\"height\":1350,\"url\":\"https://cdn2.thedogapi.com/images/HkNS3gqEm.jpg\"}},{\"weight\":{\"imperial\":\"4 - 7\",\"metric\":\"2 - 3\"},\"height\":{\"imperial\":\"8 - 9\",\"metric\":\"20 - 23\"},\"id\":264,\"name\":\"Yorkshire Terrier\",\"bred_for\":\"Small vermin hunting\",\"breed_group\":\"Toy\",\"life_span\":\"12 - 16 years\",\"temperament\":\"Bold, Independent, Confident, Intelligent, Courageous\",\"reference_image_id\":\"B12BnxcVQ\",\"image\":{\"id\":\"B12BnxcVQ\",\"width\":1024,\"height\":683,\"url\":\"https://cdn2.thedogapi.com/images/B12BnxcVQ.jpg\"}}]'"
      ]
     },
     "metadata": {},
     "execution_count": 11
    }
   ],
   "source": [
    "response = requests.get(\"https://api.thedogapi.com/v1/breeds\")\n",
    "response.text"
   ]
  },
  {
   "cell_type": "code",
   "execution_count": 13,
   "metadata": {},
   "outputs": [],
   "source": [
    "import json\n",
    "json_str_dog_API = json.dumps(response.json())\n",
    "\n",
    "with open('DogAPI.json', 'w') as f:\n",
    "    f.write(json_str_dog_API)"
   ]
  },
  {
   "source": [
    "#### Cat API"
   ],
   "cell_type": "markdown",
   "metadata": {}
  },
  {
   "cell_type": "code",
   "execution_count": 14,
   "metadata": {},
   "outputs": [
    {
     "output_type": "execute_result",
     "data": {
      "text/plain": [
       "Breeds/BreedsKthruR/Ragdoll.aspx\",\"vetstreet_url\":\"http://www.vetstreet.com/cats/ragdoll\",\"vcahospitals_url\":\"https://vcahospitals.com/know-your-pet/cat-breeds/ragdoll\",\"temperament\":\"Affectionate, Friendly, Gentle, Quiet, Easygoing\",\"origin\":\"United States\",\"country_codes\":\"US\",\"country_code\":\"US\",\"description\":\"Ragdolls love their people, greeting them at the door, following them around the house, and leaping into a lap or snuggling in bed whenever given the chance. They are the epitome of a lap cat, enjoy being carried and collapsing into the arms of anyone who holds them.\",\"life_span\":\"12 - 17\",\"indoor\":0,\"lap\":1,\"alt_names\":\"Rag doll\",\"adaptability\":5,\"affection_level\":5,\"child_friendly\":4,\"dog_friendly\":5,\"energy_level\":3,\"grooming\":2,\"health_issues\":3,\"intelligence\":3,\"shedding_level\":3,\"social_needs\":5,\"stranger_friendly\":3,\"vocalisation\":1,\"experimental\":0,\"hairless\":0,\"natural\":0,\"rare\":0,\"rex\":0,\"suppressed_tail\":0,\"short_legs\":0,\"wikipedia_url\":\"https://en.wikipedia.org/wiki/Ragdoll\",\"hypoallergenic\":0,\"reference_image_id\":\"oGefY4YoG\",\"image\":{\"id\":\"oGefY4YoG\",\"width\":768,\"height\":1024,\"url\":\"https://cdn2.thecatapi.com/images/oGefY4YoG.jpg\"}},{\"weight\":{\"imperial\":\"5 - 11\",\"metric\":\"2 - 5\"},\"id\":\"rblu\",\"name\":\"Russian Blue\",\"cfa_url\":\"http://cfa.org/Breeds/BreedsKthruR/RussianBlue.aspx\",\"vetstreet_url\":\"http://www.vetstreet.com/cats/russian-blue-nebelung\",\"vcahospitals_url\":\"https://vcahospitals.com/know-your-pet/cat-breeds/russian-blue\",\"temperament\":\"Active, Dependent, Easy Going, Gentle, Intelligent, Loyal, Playful, Quiet\",\"origin\":\"Russia\",\"country_codes\":\"RU\",\"country_code\":\"RU\",\"description\":\"Russian Blues are very loving and reserved. They do not like noisy households but they do like to play and can be quite active when outdoors. They bond very closely with their owner and are known to be compatible with other pets.\",\"life_span\":\"10 - 16\",\"indoor\":0,\"lap\":1,\"alt_names\":\"Archangel Blue, Archangel Cat\",\"adaptability\":3,\"affection_level\":3,\"child_friendly\":3,\"dog_friendly\":3,\"energy_level\":3,\"grooming\":3,\"health_issues\":1,\"intelligence\":3,\"shedding_level\":3,\"social_needs\":3,\"stranger_friendly\":1,\"vocalisation\":1,\"experimental\":0,\"hairless\":0,\"natural\":1,\"rare\":0,\"rex\":0,\"suppressed_tail\":0,\"short_legs\":0,\"wikipedia_url\":\"https://en.wikipedia.org/wiki/Russian_Blue\",\"hypoallergenic\":1,\"reference_image_id\":\"Rhj-JsTLP\",\"image\":{\"id\":\"Rhj-JsTLP\",\"width\":1280,\"height\":853,\"url\":\"https://cdn2.thecatapi.com/images/Rhj-JsTLP.jpg\"}},{\"weight\":{\"imperial\":\"8 - 25\",\"metric\":\"4 - 11\"},\"id\":\"sava\",\"name\":\"Savannah\",\"vetstreet_url\":\"http://www.vetstreet.com/cats/savannah\",\"temperament\":\"Curious, Social, Intelligent, Loyal, Outgoing, Adventurous, Affectionate\",\"origin\":\"United States\",\"country_codes\":\"US\",\"country_code\":\"US\",\"description\":\"Savannah is the feline version of a dog. Actively seeking social interaction, they are given to pouting if left out. Remaining kitten-like through life. Profoundly loyal to immediate family members whilst questioning the presence of strangers. Making excellent companions that are loyal, intelligent and eager to be involved.\",\"life_span\":\"17 - 20\",\"indoor\":0,\"alt_names\":\"\",\"adaptability\":5,\"affection_level\":5,\"child_friendly\":4,\"dog_friendly\":5,\"energy_level\":5,\"grooming\":1,\"health_issues\":1,\"intelligence\":5,\"shedding_level\":3,\"social_needs\":5,\"stranger_friendly\":5,\"vocalisation\":1,\"experimental\":1,\"hairless\":0,\"natural\":0,\"rare\":0,\"rex\":0,\"suppressed_tail\":0,\"short_legs\":0,\"wikipedia_url\":\"https://en.wikipedia.org/wiki/Savannah_cat\",\"hypoallergenic\":0,\"reference_image_id\":\"a8nIYvs6S\",\"image\":{\"id\":\"a8nIYvs6S\",\"width\":850,\"height\":1100,\"url\":\"https://cdn2.thecatapi.com/images/a8nIYvs6S.jpg\"}},{\"weight\":{\"imperial\":\"5 - 11\",\"metric\":\"2 - 5\"},\"id\":\"sfol\",\"name\":\"Scottish Fold\",\"cfa_url\":\"http://cfa.org/Breeds/BreedsSthruT/ScottishFold.aspx\",\"vetstreet_url\":\"http://www.vetstreet.com/cats/scottish-fold-highland-fold\",\"vcahospitals_url\":\"https://vcahospitals.com/know-your-pet/cat-breeds/scottish-fold\",\"temperament\":\"Affectionate, Intelligent, Loyal, Playful, Social, Sweet, Loving\",\"origin\":\"United Kingdom\",\"country_codes\":\"GB\",\"country_code\":\"GB\",\"description\":\"The Scottish Fold is a sweet, charming breed. She is an easy cat to live with and to care for. She is affectionate and is comfortable with all members of her family. Her tail should be handled gently. Folds are known for sleeping on their backs, and for sitting with their legs stretched out and their paws on their belly. This is called the \\\\\"Buddha Position\\\\\".\",\"life_span\":\"11 - 14\",\"indoor\":0,\"alt_names\":\"Scot Fold\",\"adaptability\":5,\"affection_level\":5,\"child_friendly\":4,\"dog_friendly\":5,\"energy_level\":3,\"grooming\":1,\"health_issues\":4,\"intelligence\":3,\"shedding_level\":3,\"social_needs\":3,\"stranger_friendly\":3,\"vocalisation\":1,\"experimental\":0,\"hairless\":0,\"natural\":0,\"rare\":0,\"rex\":0,\"suppressed_tail\":0,\"short_legs\":0,\"wikipedia_url\":\"https://en.wikipedia.org/wiki/Scottish_Fold\",\"hypoallergenic\":0,\"reference_image_id\":\"o9t0LDcsa\",\"image\":{\"id\":\"o9t0LDcsa\",\"width\":1920,\"height\":1440,\"url\":\"https://cdn2.thecatapi.com/images/o9t0LDcsa.jpg\"}},{\"weight\":{\"imperial\":\"6 - 16\",\"metric\":\"3 - 7\"},\"id\":\"srex\",\"name\":\"Selkirk Rex\",\"cfa_url\":\"http://cfa.org/Breeds/BreedsSthruT/SelkirkRex.aspx\",\"vetstreet_url\":\"http://www.vetstreet.com/cats/selkirk-rex\",\"vcahospitals_url\":\"https://vcahospitals.com/know-your-pet/cat-breeds/selkirk-rex\",\"temperament\":\"Active, Affectionate, Dependent, Gentle, Patient, Playful, Quiet, Social\",\"origin\":\"United States\",\"country_codes\":\"US\",\"country_code\":\"US\",\"description\":\"The Selkirk Rex is an incredibly patient, loving, and tolerant breed. The Selkirk also has a silly side and is sometimes described as clownish. She loves being a lap cat and will be happy to chat with you in a quiet voice if you talk to her. \",\"life_span\":\"14 - 15\",\"indoor\":0,\"lap\":1,\"alt_names\":\"Shepherd Cat\",\"adaptability\":5,\"affection_level\":5,\"child_friendly\":4,\"dog_friendly\":5,\"energy_level\":3,\"grooming\":2,\"health_issues\":4,\"intelligence\":3,\"shedding_level\":1,\"social_needs\":3,\"stranger_friendly\":3,\"vocalisation\":3,\"experimental\":0,\"hairless\":0,\"natural\":0,\"rare\":0,\"rex\":1,\"suppressed_tail\":0,\"short_legs\":0,\"wikipedia_url\":\"https://en.wikipedia.org/wiki/Selkirk_Rex\",\"hypoallergenic\":1,\"reference_image_id\":\"II9dOZmrw\",\"image\":{\"id\":\"II9dOZmrw\",\"width\":1920,\"height\":902,\"url\":\"https://cdn2.thecatapi.com/images/II9dOZmrw.jpg\"}},{\"weight\":{\"imperial\":\"8 - 15\",\"metric\":\"4 - 7\"},\"id\":\"siam\",\"name\":\"Siamese\",\"cfa_url\":\"http://cfa.org/Breeds/BreedsSthruT/Siamese.aspx\",\"vetstreet_url\":\"http://www.vetstreet.com/cats/siamese\",\"vcahospitals_url\":\"https://vcahospitals.com/know-your-pet/cat-breeds/siamese\",\"temperament\":\"Active, Agile, Clever, Sociable, Loving, Energetic\",\"origin\":\"Thailand\",\"country_codes\":\"TH\",\"country_code\":\"TH\",\"description\":\"While Siamese cats are extremely fond of their people, they will follow you around and supervise your every move, being talkative and opinionated. They are a demanding and social cat, that do not like being left alone for long periods.\",\"life_span\":\"12 - 15\",\"indoor\":0,\"lap\":1,\"alt_names\":\"Siam, Thai Cat\",\"adaptability\":5,\"affection_level\":5,\"child_friendly\":4,\"dog_friendly\":5,\"energy_level\":5,\"grooming\":1,\"health_issues\":1,\"intelligence\":5,\"shedding_level\":2,\"social_needs\":5,\"stranger_friendly\":5,\"vocalisation\":5,\"experimental\":0,\"hairless\":0,\"natural\":0,\"rare\":0,\"rex\":0,\"suppressed_tail\":0,\"short_legs\":0,\"wikipedia_url\":\"https://en.wikipedia.org/wiki/Siamese_(cat)\",\"hypoallergenic\":1,\"reference_image_id\":\"ai6Jps4sx\",\"image\":{\"id\":\"ai6Jps4sx\",\"width\":1110,\"height\":811,\"url\":\"https://cdn2.thecatapi.com/images/ai6Jps4sx.jpg\"}},{\"weight\":{\"imperial\":\"8 - 16\",\"metric\":\"4 - 7\"},\"id\":\"sibe\",\"name\":\"Siberian\",\"cfa_url\":\"http://cfa.org/Breeds/BreedsSthruT/Siberian.aspx\",\"vetstreet_url\":\"http://www.vetstreet.com/cats/siberian\",\"vcahospitals_url\":\"https://vcahospitals.com/know-your-pet/cat-breeds/siberian\",\"temperament\":\"Curious, Intelligent, Loyal, Sweet, Agile, Playful, Affectionate\",\"origin\":\"Russia\",\"country_codes\":\"RU\",\"country_code\":\"RU\",\"description\":\"The Siberians dog like temperament and affection makes the ideal lap cat and will live quite happily indoors. Very agile and powerful, the Siberian cat can easily leap and reach high places, including the tops of refrigerators and even doors. \",\"life_span\":\"12 - 15\",\"indoor\":0,\"lap\":1,\"alt_names\":\"Moscow Semi-longhair, HairSiberian Forest Cat\",\"adaptability\":5,\"affection_level\":5,\"child_friendly\":4,\"dog_friendly\":5,\"energy_level\":5,\"grooming\":2,\"health_issues\":2,\"intelligence\":5,\"shedding_level\":3,\"social_needs\":4,\"stranger_friendly\":3,\"vocalisation\":1,\"experimental\":0,\"hairless\":0,\"natural\":1,\"rare\":0,\"rex\":0,\"suppressed_tail\":0,\"short_legs\":0,\"wikipedia_url\":\"https://en.wikipedia.org/wiki/Siberian_(cat)\",\"hypoallergenic\":1,\"reference_image_id\":\"3bkZAjRh1\",\"image\":{\"id\":\"3bkZAjRh1\",\"width\":4232,\"height\":2560,\"url\":\"https://cdn2.thecatapi.com/images/3bkZAjRh1.jpg\"}},{\"weight\":{\"imperial\":\"5 - 8\",\"metric\":\"2 - 4\"},\"id\":\"sing\",\"name\":\"Singapura\",\"cfa_url\":\"http://cfa.org/Breeds/BreedsSthruT/Singapura.aspx\",\"vetstreet_url\":\"http://www.vetstreet.com/cats/singapura\",\"vcahospitals_url\":\"https://vcahospitals.com/know-your-pet/cat-breeds/singapura\",\"temperament\":\"Affectionate, Curious, Easy Going, Intelligent, Interactive, Lively, Loyal\",\"origin\":\"Singapore\",\"country_codes\":\"SP\",\"country_code\":\"SP\",\"description\":\"The Singapura is usually cautious when it comes to meeting new people, but loves attention from his family so much that she sometimes has the reputation of being a pest. This is a highly active, curious and affectionate cat. She may be small, but she knows she’s in charge\",\"life_span\":\"12 - 15\",\"indoor\":0,\"lap\":1,\"alt_names\":\"Drain Cat, Kucinta, Pura\",\"adaptability\":5,\"affection_level\":5,\"child_friendly\":4,\"dog_friendly\":5,\"energy_level\":5,\"grooming\":1,\"health_issues\":1,\"intelligence\":5,\"shedding_level\":3,\"social_needs\":5,\"stranger_friendly\":5,\"vocalisation\":1,\"experimental\":0,\"hairless\":0,\"natural\":0,\"rare\":0,\"rex\":0,\"suppressed_tail\":0,\"short_legs\":0,\"wikipedia_url\":\"https://en.wikipedia.org/wiki/Singapura_(cat)\",\"hypoallergenic\":0,\"reference_image_id\":\"Qtncp2nRe\",\"image\":{\"id\":\"Qtncp2nRe\",\"width\":1080,\"height\":1350,\"url\":\"https://cdn2.thecatapi.com/images/Qtncp2nRe.jpg\"}},{\"weight\":{\"imperial\":\"7 - 12\",\"metric\":\"3 - 5\"},\"id\":\"snow\",\"name\":\"Snowshoe\",\"temperament\":\"Affectionate, Social, Intelligent, Sweet-tempered\",\"origin\":\"United States\",\"country_codes\":\"US\",\"country_code\":\"US\",\"description\":\"The Snowshoe is a vibrant, energetic, affectionate and intelligent cat. They love being around people which makes them ideal for families, and becomes unhappy when left alone for long periods of time. Usually attaching themselves to one person, they do whatever they can to get your attention.\",\"life_span\":\"14 - 19\",\"indoor\":0,\"lap\":1,\"alt_names\":\"\",\"adaptability\":5,\"affection_level\":5,\"child_friendly\":4,\"dog_friendly\":5,\"energy_level\":4,\"grooming\":3,\"health_issues\":1,\"intelligence\":5,\"shedding_level\":3,\"social_needs\":4,\"stranger_friendly\":4,\"vocalisation\":5,\"experimental\":0,\"hairless\":0,\"natural\":0,\"rare\":0,\"rex\":0,\"suppressed_tail\":0,\"short_legs\":0,\"wikipedia_url\":\"https://en.wikipedia.org/wiki/Snowshoe_(cat)\",\"hypoallergenic\":0,\"reference_image_id\":\"MK-sYESvO\",\"image\":{\"id\":\"MK-sYESvO\",\"width\":1170,\"height\":750,\"url\":\"https://cdn2.thecatapi.com/images/MK-sYESvO.jpg\"}},{\"weight\":{\"imperial\":\"6 - 12\",\"metric\":\"3 - 5\"},\"id\":\"soma\",\"name\":\"Somali\",\"cfa_url\":\"http://cfa.org/Breeds/BreedsSthruT/Somali.aspx\",\"vetstreet_url\":\"http://www.vetstreet.com/cats/somali\",\"vcahospitals_url\":\"https://vcahospitals.com/know-your-pet/cat-breeds/somali\",\"temperament\":\"Mischievous, Tenacious, Intelligent, Affectionate, Gentle, Interactive, Loyal\",\"origin\":\"Somalia\",\"country_codes\":\"SO\",\"country_code\":\"SO\",\"description\":\"The Somali lives life to the fullest. He climbs higher, jumps farther, plays harder. Nothing escapes the notice of this highly intelligent and inquisitive cat. Somalis love the company of humans and other animals.\",\"life_span\":\"12 - 16\",\"indoor\":0,\"alt_names\":\"Fox Cat, Long-Haired Abyssinian\",\"adaptability\":5,\"affection_level\":5,\"child_friendly\":3,\"dog_friendly\":4,\"energy_level\":5,\"grooming\":3,\"health_issues\":2,\"intelligence\":5,\"shedding_level\":4,\"social_needs\":5,\"stranger_friendly\":5,\"vocalisation\":1,\"experimental\":0,\"hairless\":0,\"natural\":0,\"rare\":0,\"rex\":0,\"suppressed_tail\":0,\"short_legs\":0,\"wikipedia_url\":\"https://en.wikipedia.org/wiki/Somali_(cat)\",\"hypoallergenic\":0,\"reference_image_id\":\"EPF2ejNS0\",\"image\":{\"id\":\"EPF2ejNS0\",\"width\":850,\"height\":1008,\"url\":\"https://cdn2.thecatapi.com/images/EPF2ejNS0.jpg\"}},{\"weight\":{\"imperial\":\"6 - 12\",\"metric\":\"3 - 5\"},\"id\":\"sphy\",\"name\":\"Sphynx\",\"cfa_url\":\"http://cfa.org/Breeds/BreedsSthruT/Sphynx.aspx\",\"vetstreet_url\":\"http://www.vetstreet.com/cats/sphynx\",\"vcahospitals_url\":\"https://vcahospitals.com/know-your-pet/cat-breeds/sphynx\",\"temperament\":\"Loyal, Inquisitive, Friendly, Quiet, Gentle\",\"origin\":\"Canada\",\"country_codes\":\"CA\",\"country_code\":\"CA\",\"description\":\"The Sphynx is an intelligent, inquisitive, extremely friendly people-oriented breed. Sphynx commonly greet their owners  at the front door, with obvious excitement and happiness. She has an unexpected sense of humor that is often at odds with her dour expression.\",\"life_span\":\"12 - 14\",\"indoor\":0,\"lap\":1,\"alt_names\":\"Canadian Hairless, Canadian Sphynx\",\"adaptability\":5,\"affection_level\":5,\"child_friendly\":4,\"dog_friendly\":5,\"energy_level\":3,\"grooming\":2,\"health_issues\":4,\"intelligence\":5,\"shedding_level\":1,\"social_needs\":5,\"stranger_friendly\":5,\"vocalisation\":5,\"experimental\":0,\"hairless\":1,\"natural\":0,\"rare\":1,\"rex\":0,\"suppressed_tail\":0,\"short_legs\":0,\"wikipedia_url\":\"https://en.wikipedia.org/wiki/Sphynx_(cat)\",\"hypoallergenic\":1,\"reference_image_id\":\"BDb8ZXb1v\",\"image\":{\"id\":\"BDb8ZXb1v\",\"width\":1600,\"height\":1067,\"url\":\"https://cdn2.thecatapi.com/images/BDb8ZXb1v.jpg\"}},{\"weight\":{\"imperial\":\"6 - 12\",\"metric\":\"3 - 5\"},\"id\":\"tonk\",\"name\":\"Tonkinese\",\"cfa_url\":\"http://cfa.org/Breeds/BreedsSthruT/Tonkinese.aspx\",\"vetstreet_url\":\"http://www.vetstreet.com/cats/tonkinese\",\"vcahospitals_url\":\"https://vcahospitals.com/know-your-pet/cat-breeds/tonkinese\",\"temperament\":\"Curious, Intelligent, Social, Lively, Outgoing, Playful, Affectionate\",\"origin\":\"Canada\",\"country_codes\":\"CA\",\"country_code\":\"CA\",\"description\":\"Intelligent and generous with their affection, a Tonkinese will supervise all activities with curiosity. Loving, social, active, playful, yet content to be a lap cat\",\"life_span\":\"14 - 16\",\"indoor\":0,\"lap\":1,\"alt_names\":\"Tonk\",\"adaptability\":5,\"affection_level\":5,\"child_friendly\":4,\"dog_friendly\":5,\"energy_level\":5,\"grooming\":1,\"health_issues\":1,\"intelligence\":5,\"shedding_level\":3,\"social_needs\":5,\"stranger_friendly\":5,\"vocalisation\":5,\"experimental\":0,\"hairless\":0,\"natural\":0,\"rare\":0,\"rex\":0,\"suppressed_tail\":0,\"short_legs\":0,\"wikipedia_url\":\"https://en.wikipedia.org/wiki/Tonkinese_(cat)\",\"hypoallergenic\":0,\"reference_image_id\":\"KBroiVNCM\",\"image\":{\"id\":\"KBroiVNCM\",\"width\":1080,\"height\":1080,\"url\":\"https://cdn2.thecatapi.com/images/KBroiVNCM.jpg\"}},{\"weight\":{\"imperial\":\"7 - 15\",\"metric\":\"3 - 7\"},\"id\":\"toyg\",\"name\":\"Toyger\",\"vetstreet_url\":\"http://www.vetstreet.com/cats/toyger\",\"temperament\":\"Playful, Social, Intelligent\",\"origin\":\"United States\",\"country_codes\":\"US\",\"country_code\":\"US\",\"description\":\"The Toyger has a sweet, calm personality and is generally friendly. He\\'s outgoing enough to walk on a leash, energetic enough to play fetch and other interactive games, and confident enough to get along with other cats and friendly dogs.\",\"life_span\":\"12 - 15\",\"indoor\":0,\"lap\":1,\"alt_names\":\"\",\"adaptability\":5,\"affection_level\":5,\"child_friendly\":4,\"dog_friendly\":5,\"energy_level\":5,\"grooming\":1,\"health_issues\":2,\"intelligence\":5,\"shedding_level\":3,\"social_needs\":3,\"stranger_friendly\":5,\"vocalisation\":5,\"experimental\":0,\"hairless\":0,\"natural\":0,\"rare\":0,\"rex\":0,\"suppressed_tail\":0,\"short_legs\":0,\"wikipedia_url\":\"https://en.wikipedia.org/wiki/Toyger\",\"hypoallergenic\":0,\"reference_image_id\":\"O3F3_S1XN\",\"image\":{\"id\":\"O3F3_S1XN\",\"width\":1080,\"height\":1080,\"url\":\"https://cdn2.thecatapi.com/images/O3F3_S1XN.jpg\"}},{\"weight\":{\"imperial\":\"5 - 10\",\"metric\":\"2 - 5\"},\"id\":\"tang\",\"name\":\"Turkish Angora\",\"cfa_url\":\"http://cfa.org/Breeds/BreedsSthruT/TurkishAngora.aspx\",\"vetstreet_url\":\"http://www.vetstreet.com/cats/turkish-angora\",\"vcahospitals_url\":\"https://vcahospitals.com/know-your-pet/cat-breeds/turkish-angora\",\"temperament\":\"Affectionate, Agile, Clever, Gentle, Intelligent, Playful, Social\",\"origin\":\"Turkey\",\"country_codes\":\"TR\",\"country_code\":\"TR\",\"description\":\"This is a smart and intelligent cat which bonds well with humans. With its affectionate and playful personality the Angora is a top choice for families. The Angora gets along great with other pets in the home, but it will make clear who is in charge, and who the house belongs to\",\"life_span\":\"15 - 18\",\"indoor\":0,\"alt_names\":\"Ankara\",\"adaptability\":5,\"affection_level\":5,\"child_friendly\":4,\"dog_friendly\":5,\"energy_level\":5,\"grooming\":2,\"health_issues\":2,\"intelligence\":5,\"shedding_level\":2,\"social_needs\":5,\"stranger_friendly\":5,\"vocalisation\":3,\"experimental\":0,\"hairless\":0,\"natural\":1,\"rare\":0,\"rex\":0,\"suppressed_tail\":0,\"short_legs\":0,\"wikipedia_url\":\"https://en.wikipedia.org/wiki/Turkish_Angora\",\"hypoallergenic\":0,\"reference_image_id\":\"7CGV6WVXq\",\"image\":{\"id\":\"7CGV6WVXq\",\"width\":736,\"height\":1104,\"url\":\"https://cdn2.thecatapi.com/images/7CGV6WVXq.jpg\"}},{\"weight\":{\"imperial\":\"7 - 20\",\"metric\":\"3 - 9\"},\"id\":\"tvan\",\"name\":\"Turkish Van\",\"cfa_url\":\"http://cfa.org/Breeds/BreedsSthruT/TurkishVan.aspx\",\"vetstreet_url\":\"http://www.vetstreet.com/cats/turkish-van\",\"vcahospitals_url\":\"https://vcahospitals.com/know-your-pet/cat-breeds/turkish-van\",\"temperament\":\"Agile, Intelligent, Loyal, Playful, Energetic\",\"origin\":\"Turkey\",\"country_codes\":\"TR\",\"country_code\":\"TR\",\"description\":\"While the Turkish Van loves to jump and climb, play with toys, retrieve and play chase, she is is big and ungainly; this is one cat who doesn’t always land on his feet. While not much of a lap cat, the Van will be happy to cuddle next to you and sleep in your bed. \",\"life_span\":\"12 - 17\",\"indoor\":0,\"alt_names\":\"Turkish Cat, Swimming cat\",\"adaptability\":5,\"affection_level\":5,\"child_friendly\":4,\"dog_friendly\":5,\"energy_level\":5,\"grooming\":2,\"health_issues\":1,\"intelligence\":5,\"shedding_level\":3,\"social_needs\":4,\"stranger_friendly\":4,\"vocalisation\":5,\"experimental\":0,\"hairless\":0,\"natural\":1,\"rare\":0,\"rex\":0,\"suppressed_tail\":0,\"short_legs\":0,\"wikipedia_url\":\"https://en.wikipedia.org/wiki/Turkish_Van\",\"hypoallergenic\":0,\"reference_image_id\":\"sxIXJax6h\",\"image\":{\"id\":\"sxIXJax6h\",\"width\":960,\"height\":1280,\"url\":\"https://cdn2.thecatapi.com/images/sxIXJax6h.jpg\"}},{\"weight\":{\"imperial\":\"12 - 18\",\"metric\":\"5 - 8\"},\"id\":\"ycho\",\"name\":\"York Chocolate\",\"temperament\":\"Playful, Social, Intelligent, Curious, Friendly\",\"origin\":\"United States\",\"country_codes\":\"US\",\"country_code\":\"US\",\"description\":\"York Chocolate cats are known to be true lap cats with a sweet temperament. They love to be cuddled and petted. Their curious nature makes them follow you all the time and participate in almost everything you do, even if it\\'s related to water: unlike many other cats, York Chocolates love it.\",\"life_span\":\"13 - 15\",\"indoor\":0,\"lap\":1,\"alt_names\":\"York\",\"adaptability\":5,\"affection_level\":5,\"child_friendly\":4,\"dog_friendly\":5,\"energy_level\":5,\"grooming\":3,\"health_issues\":1,\"intelligence\":5,\"shedding_level\":3,\"social_needs\":4,\"stranger_friendly\":4,\"vocalisation\":5,\"experimental\":0,\"hairless\":0,\"natural\":0,\"rare\":0,\"rex\":0,\"suppressed_tail\":0,\"short_legs\":0,\"wikipedia_url\":\"https://en.wikipedia.org/wiki/York_Chocolate\",\"hypoallergenic\":0,\"reference_image_id\":\"0SxW2SQ_S\",\"image\":{\"id\":\"0SxW2SQ_S\",\"width\":800,\"height\":1203,\"url\":\"https://cdn2.thecatapi.com/images/0SxW2SQ_S.jpg\"}}]'"
      ]
     },
     "metadata": {},
     "execution_count": 14
    }
   ],
   "source": [
    "response = requests.get(\"https://api.thecatapi.com/v1/breeds\")\n",
    "response.text"
   ]
  },
  {
   "source": [
    "I bet you’re already thinking about different ways you can use these APIs to make some cute side project, and that’s the great thing about APIs. Once you start using them, there’s nothing stopping you from turning a hobby or passion into a fun little project."
   ],
   "cell_type": "markdown",
   "metadata": {}
  },
  {
   "source": [
    "Before you move forward, one thing you need to know about __endpoints__ is the difference between __http://__ and __https://__. In a nutshell, __HTTPS__ is the encrypted version of __HTTP__, making all traffic between the client and the server much safer. When consuming public APIs, you should definitely stay away from sending any private or sensitive information to http:// endpoints and use only those APIs that provide a secure https:// base URL. "
   ],
   "cell_type": "markdown",
   "metadata": {}
  },
  {
   "source": [
    "## Request and Response\n",
    "all interactions between a client—in this case your Python console—and an API are split into a __request__ and a __response__:\n",
    "\n",
    "* __Requests__ contain relevant data regarding your API request call, such as the base URL, the endpoint, the method used, the headers, and so on.\n",
    "* __Responses__ contain relevant data returned by the server, including the data or content, the status code, and the headers."
   ],
   "cell_type": "markdown",
   "metadata": {}
  },
  {
   "cell_type": "code",
   "execution_count": 15,
   "metadata": {},
   "outputs": [
    {
     "output_type": "execute_result",
     "data": {
      "text/plain": [
       "<Response [200]>"
      ]
     },
     "metadata": {},
     "execution_count": 15
    }
   ],
   "source": [
    "# Using TheDogAPI again, you can drill down a bit more into what exactly is inside the Request and Response objects:\n",
    "import requests\n",
    "response_dogAPI = requests.get(\"https://api.thedogapi.com/v1/breeds\")\n",
    "\n",
    "# response\n",
    "response_dogAPI"
   ]
  },
  {
   "cell_type": "code",
   "execution_count": 16,
   "metadata": {},
   "outputs": [
    {
     "output_type": "execute_result",
     "data": {
      "text/plain": [
       "200"
      ]
     },
     "metadata": {},
     "execution_count": 16
    }
   ],
   "source": [
    "# Status code\n",
    "response_dogAPI.status_code"
   ]
  },
  {
   "cell_type": "code",
   "execution_count": 17,
   "metadata": {},
   "outputs": [
    {
     "output_type": "execute_result",
     "data": {
      "text/plain": [
       "{'Access-Control-Expose-Headers': 'Pagination-Count, Pagination-Page, Pagination-Limit', 'Content-Encoding': 'gzip', 'Content-Type': 'application/json; charset=utf-8', 'Date': 'Mon, 08 Mar 2021 19:59:35 GMT', 'Pagination-Count': '172', 'Pagination-Limit': '1000', 'Pagination-Page': '0', 'Server': 'Apache/2.4.43 (Amazon)', 'Strict-Transport-Security': 'max-age=15552000; includeSubDomains', 'Vary': 'Origin,Accept-Encoding', 'X-Content-Type-Options': 'nosniff', 'X-DNS-Prefetch-Control': 'off', 'X-Download-Options': 'noopen', 'X-Frame-Options': 'SAMEORIGIN', 'X-Response-Time': '9ms', 'X-XSS-Protection': '1; mode=block', 'transfer-encoding': 'chunked', 'Connection': 'keep-alive'}"
      ]
     },
     "metadata": {},
     "execution_count": 17
    }
   ],
   "source": [
    "# response headers\n",
    "response_dogAPI.headers"
   ]
  },
  {
   "cell_type": "code",
   "execution_count": 18,
   "metadata": {},
   "outputs": [
    {
     "output_type": "execute_result",
     "data": {
      "text/plain": [
       "'https://api.thecatapi.com/v1/breeds'"
      ]
     },
     "metadata": {},
     "execution_count": 18
    }
   ],
   "source": [
    "request_dogAPI = response.request\n",
    "# url\n",
    "request_dogAPI.url"
   ]
  },
  {
   "cell_type": "code",
   "execution_count": 19,
   "metadata": {},
   "outputs": [
    {
     "output_type": "execute_result",
     "data": {
      "text/plain": [
       "'/v1/breeds'"
      ]
     },
     "metadata": {},
     "execution_count": 19
    }
   ],
   "source": [
    "# path url\n",
    "request_dogAPI.path_url"
   ]
  },
  {
   "cell_type": "code",
   "execution_count": 20,
   "metadata": {},
   "outputs": [
    {
     "output_type": "execute_result",
     "data": {
      "text/plain": [
       "'GET'"
      ]
     },
     "metadata": {},
     "execution_count": 20
    }
   ],
   "source": [
    "# method\n",
    "request_dogAPI.method"
   ]
  },
  {
   "cell_type": "code",
   "execution_count": 21,
   "metadata": {},
   "outputs": [
    {
     "output_type": "execute_result",
     "data": {
      "text/plain": [
       "{'User-Agent': 'python-requests/2.25.1', 'Accept-Encoding': 'gzip, deflate', 'Accept': '*/*', 'Connection': 'keep-alive'}"
      ]
     },
     "metadata": {},
     "execution_count": 21
    }
   ],
   "source": [
    "# headers\n",
    "request_dogAPI.headers\n"
   ]
  },
  {
   "source": [
    "The example above shows you a few of the most important _attributes_ available for __Request__ and __Response__ objects.\n",
    "\n",
    "You can check the status of a response using .status_code and .reason. The requests library also prints the status code in the representation of the Response object:"
   ],
   "cell_type": "markdown",
   "metadata": {}
  },
  {
   "cell_type": "code",
   "execution_count": 22,
   "metadata": {},
   "outputs": [
    {
     "output_type": "execute_result",
     "data": {
      "text/plain": [
       "200"
      ]
     },
     "metadata": {},
     "execution_count": 22
    }
   ],
   "source": [
    "response_dogAPI.status_code"
   ]
  },
  {
   "cell_type": "code",
   "execution_count": 23,
   "metadata": {},
   "outputs": [
    {
     "output_type": "execute_result",
     "data": {
      "text/plain": [
       "'OK'"
      ]
     },
     "metadata": {},
     "execution_count": 23
    }
   ],
   "source": [
    "response_dogAPI.reason"
   ]
  },
  {
   "source": [
    "The request above returns 200, so you can consider it a successful request. But now have a look at a failing request triggered when you include a typo in the endpoint /breedz:"
   ],
   "cell_type": "markdown",
   "metadata": {}
  },
  {
   "cell_type": "code",
   "execution_count": 25,
   "metadata": {},
   "outputs": [
    {
     "output_type": "stream",
     "name": "stdout",
     "text": [
      "<Response [404]>\n404\nNot Found\n"
     ]
    }
   ],
   "source": [
    "response = requests.get(\"https://api.thedogapi.com/v1/breedz\")\n",
    "print(response)\n",
    "print(response.status_code)\n",
    "print(response.reason)\n",
    "\n",
    "# As you can see, the /breedz endpoint doesn’t exist, so the API returns a 404 Not Found status code."
   ]
  },
  {
   "source": [
    "To inspect the headers of a response, you can use __response.headers__:"
   ],
   "cell_type": "markdown",
   "metadata": {}
  },
  {
   "cell_type": "code",
   "execution_count": 26,
   "metadata": {},
   "outputs": [
    {
     "output_type": "execute_result",
     "data": {
      "text/plain": [
       "{'Content-Encoding': 'gzip', 'Content-Type': 'application/json; charset=utf-8', 'Date': 'Tue, 09 Mar 2021 06:46:09 GMT', 'Server': 'Apache/2.4.43 (Amazon)', 'Strict-Transport-Security': 'max-age=15552000; includeSubDomains', 'Vary': 'Origin,Accept-Encoding', 'X-Content-Type-Options': 'nosniff', 'X-DNS-Prefetch-Control': 'off', 'X-Download-Options': 'noopen', 'X-Frame-Options': 'SAMEORIGIN', 'X-Response-Time': '1ms', 'X-XSS-Protection': '1; mode=block', 'Content-Length': '265', 'Connection': 'keep-alive'}"
      ]
     },
     "metadata": {},
     "execution_count": 26
    }
   ],
   "source": [
    "response = requests.get(\"https://api.thedogapi.com/v1/breeds/1\")\n",
    "response.headers"
   ]
  },
  {
   "source": [
    "To do the same with the request headers, you can use __response.request.headers__ since request is an attribute of the Response object:"
   ],
   "cell_type": "markdown",
   "metadata": {}
  },
  {
   "cell_type": "code",
   "execution_count": 27,
   "metadata": {},
   "outputs": [
    {
     "output_type": "execute_result",
     "data": {
      "text/plain": [
       "{'User-Agent': 'python-requests/2.25.1', 'Accept-Encoding': 'gzip, deflate', 'Accept': '*/*', 'Connection': 'keep-alive'}"
      ]
     },
     "metadata": {},
     "execution_count": 27
    }
   ],
   "source": [
    "response = requests.get(\"https://api.thedogapi.com/v1/breeds/1\")\n",
    "response.request.headers\n",
    "# In this case, you don’t define any specific headers when you make the request, so the default headers are returned."
   ]
  },
  {
   "source": [
    "## HTTP Headers\n",
    "To inspect the headers of a response, you can use __response.headers__:"
   ],
   "cell_type": "markdown",
   "metadata": {}
  },
  {
   "cell_type": "code",
   "execution_count": 28,
   "metadata": {},
   "outputs": [
    {
     "output_type": "execute_result",
     "data": {
      "text/plain": [
       "{'Content-Encoding': 'gzip', 'Content-Type': 'application/json; charset=utf-8', 'Date': 'Tue, 09 Mar 2021 06:46:44 GMT', 'Server': 'Apache/2.4.43 (Amazon)', 'Strict-Transport-Security': 'max-age=15552000; includeSubDomains', 'Vary': 'Origin,Accept-Encoding', 'X-Content-Type-Options': 'nosniff', 'X-DNS-Prefetch-Control': 'off', 'X-Download-Options': 'noopen', 'X-Frame-Options': 'SAMEORIGIN', 'X-Response-Time': '1ms', 'X-XSS-Protection': '1; mode=block', 'Content-Length': '265', 'Connection': 'keep-alive'}"
      ]
     },
     "metadata": {},
     "execution_count": 28
    }
   ],
   "source": [
    "import requests \n",
    "response = requests.get('https://api.thedogapi.com/v1/breeds/1')\n",
    "response.headers"
   ]
  },
  {
   "source": [
    "To do the same with the request headers, you can use response.request.headers since request is an attribute of the Response object:"
   ],
   "cell_type": "markdown",
   "metadata": {}
  },
  {
   "cell_type": "code",
   "execution_count": 29,
   "metadata": {},
   "outputs": [
    {
     "output_type": "execute_result",
     "data": {
      "text/plain": [
       "{'User-Agent': 'python-requests/2.25.1', 'Accept-Encoding': 'gzip, deflate', 'Accept': '*/*', 'Connection': 'keep-alive'}"
      ]
     },
     "metadata": {},
     "execution_count": 29
    }
   ],
   "source": [
    "import requests \n",
    "response = requests.get('https://api.thedogapi.com/v1/breeds/1')\n",
    "# In this case, you don’t define any specific headers when you make the request, so the default headers are returned.\n",
    "response.request.headers"
   ]
  },
  {
   "source": [
    "## Custom Headers\n",
    "Another standard that you might come across when consuming __APIs__ is the use of __custom headers__. These usually start with X-, but they’re not required to. API developers typically use custom headers to send or request additional custom information from clients.\n",
    "\n",
    "You can use a dictionary to define headers, and you can send them along with your request using the headers parameter of ___.get()__.\n",
    "\n",
    "For example, say you want to send some request ID to the API server, and you know you can do that using X-Request-Id:"
   ],
   "cell_type": "markdown",
   "metadata": {}
  },
  {
   "cell_type": "code",
   "execution_count": 30,
   "metadata": {},
   "outputs": [
    {
     "output_type": "execute_result",
     "data": {
      "text/plain": [
       "{'User-Agent': 'python-requests/2.25.1', 'Accept-Encoding': 'gzip, deflate', 'Accept': '*/*', 'Connection': 'keep-alive', 'X-Request-Id': '<my-request-id>'}"
      ]
     },
     "metadata": {},
     "execution_count": 30
    }
   ],
   "source": [
    "import requests\n",
    "headers = {\"X-Request-Id\": \"<my-request-id>\"}\n",
    "response = requests.get(\"https://example.org\", headers=headers)\n",
    "response.request.headers"
   ]
  },
  {
   "source": [
    "If you go through the __request.headers__ dictionary, then you’ll find __X-Request-Id__ right at the end, among a few other headers that come by default with any API request.\n",
    "\n",
    "There are many useful headers a response might have, but one of the most important ones is __Content-Type__, which _defines the kind of content returned in the response_."
   ],
   "cell_type": "markdown",
   "metadata": {}
  },
  {
   "source": [
    "## Content-Type\n",
    "These days, most __APIs__ use __JSON__ as the default content type, but you might need to use an __API__ that returns __XML__ or other media types, such as __images__ or __video__. In that case, the content type will differ.\n",
    "\n",
    "If you look back to one of the previous examples using __TheDogAPI__ and try to inspect the Content-Type header, then you’ll notice how it was defined as application/json:"
   ],
   "cell_type": "markdown",
   "metadata": {}
  },
  {
   "cell_type": "code",
   "execution_count": 31,
   "metadata": {},
   "outputs": [
    {
     "output_type": "execute_result",
     "data": {
      "text/plain": [
       "'application/json; charset=utf-8'"
      ]
     },
     "metadata": {},
     "execution_count": 31
    }
   ],
   "source": [
    "import requests\n",
    "response = requests.get('https://api.thedogapi.com/v1/breeds/1')\n",
    "response.headers.get(\"Content-Type\")"
   ]
  },
  {
   "source": [
    "Apart from the specific type of content (in this case application/json), the header might also return the specified encoding for the response content.\n",
    "\n",
    "If, for example, you try to fetch an image of a goat from the __PlaceGOAT API__ (), then you’ll notice that the content type is no longer application/json, but instead it’s defined as image/jpeg:"
   ],
   "cell_type": "markdown",
   "metadata": {}
  },
  {
   "source": [
    "### Response Content\n",
    "the type of content you find in the __API__ response will vary according to the __Content-Type__ header. To properly read the response contents according to the different __Content-Type__ headers, the __requests__ package comes with a couple of different Response attributes you can use to manipulate the response data:\n",
    "\n",
    "* __.text__ returns the response contents in Unicode format.\n",
    "* __.content__ returns the response contents in bytes.\n",
    "\n",
    "You already used the __.text__ attribute above. But for some specific types of data, like images and other nontextual data, using __.content__ is typically a better approach, even if it returns a very similar result to .text:"
   ],
   "cell_type": "markdown",
   "metadata": {}
  },
  {
   "cell_type": "code",
   "execution_count": 33,
   "metadata": {},
   "outputs": [
    {
     "output_type": "execute_result",
     "data": {
      "text/plain": [
       "'application/json; charset=utf-8'"
      ]
     },
     "metadata": {},
     "execution_count": 33
    }
   ],
   "source": [
    "response = requests.get(\"https://api.thedogapi.com/v1/breeds/1\")\n",
    "response.headers.get('Content-Type')"
   ]
  },
  {
   "cell_type": "code",
   "execution_count": 34,
   "metadata": {},
   "outputs": [
    {
     "output_type": "execute_result",
     "data": {
      "text/plain": [
       "b'{\"weight\":{\"imperial\":\"6 - 13\",\"metric\":\"3 - 6\"},\"height\":{\"imperial\":\"9 - 11.5\",\"metric\":\"23 - 29\"},\"id\":1,\"name\":\"Affenpinscher\",\"bred_for\":\"Small rodent hunting, lapdog\",\"breed_group\":\"Toy\",\"life_span\":\"10 - 12 years\",\"temperament\":\"Stubborn, Curious, Playful, Adventurous, Active, Fun-loving\",\"origin\":\"Germany, France\",\"reference_image_id\":\"BJa4kxc4X\"}'"
      ]
     },
     "metadata": {},
     "execution_count": 34
    }
   ],
   "source": [
    "response.content"
   ]
  },
  {
   "source": [
    "As you can see, there isn’t a big difference between __.content__ and the previously used __.text__.\n",
    "\n",
    "However, by looking at the response’s __Content-Type__ header, you can see the content is __application/json__;, a __JSON__ object. For that kind of content, the requests library includes a specific __.json()__ method that you can use to immediately convert the __API__ bytes response into a Python data structure:"
   ],
   "cell_type": "markdown",
   "metadata": {}
  },
  {
   "cell_type": "code",
   "execution_count": 36,
   "metadata": {},
   "outputs": [
    {
     "output_type": "execute_result",
     "data": {
      "text/plain": [
       "'application/json; charset=utf-8'"
      ]
     },
     "metadata": {},
     "execution_count": 36
    }
   ],
   "source": [
    "response = requests.get(\"https://api.thedogapi.com/v1/breeds/1\")\n",
    "response.headers.get('Content-Type')"
   ]
  },
  {
   "cell_type": "code",
   "execution_count": 37,
   "metadata": {},
   "outputs": [
    {
     "output_type": "execute_result",
     "data": {
      "text/plain": [
       "{'weight': {'imperial': '6 - 13', 'metric': '3 - 6'},\n",
       " 'height': {'imperial': '9 - 11.5', 'metric': '23 - 29'},\n",
       " 'id': 1,\n",
       " 'name': 'Affenpinscher',\n",
       " 'bred_for': 'Small rodent hunting, lapdog',\n",
       " 'breed_group': 'Toy',\n",
       " 'life_span': '10 - 12 years',\n",
       " 'temperament': 'Stubborn, Curious, Playful, Adventurous, Active, Fun-loving',\n",
       " 'origin': 'Germany, France',\n",
       " 'reference_image_id': 'BJa4kxc4X'}"
      ]
     },
     "metadata": {},
     "execution_count": 37
    }
   ],
   "source": [
    "response.json()"
   ]
  },
  {
   "cell_type": "code",
   "execution_count": 38,
   "metadata": {},
   "outputs": [
    {
     "output_type": "execute_result",
     "data": {
      "text/plain": [
       "'{\"weight\":{\"imperial\":\"6 - 13\",\"metric\":\"3 - 6\"},\"height\":{\"imperial\":\"9 - 11.5\",\"metric\":\"23 - 29\"},\"id\":1,\"name\":\"Affenpinscher\",\"bred_for\":\"Small rodent hunting, lapdog\",\"breed_group\":\"Toy\",\"life_span\":\"10 - 12 years\",\"temperament\":\"Stubborn, Curious, Playful, Adventurous, Active, Fun-loving\",\"origin\":\"Germany, France\",\"reference_image_id\":\"BJa4kxc4X\"}'"
      ]
     },
     "metadata": {},
     "execution_count": 38
    }
   ],
   "source": [
    "response.text"
   ]
  },
  {
   "cell_type": "code",
   "execution_count": 39,
   "metadata": {},
   "outputs": [
    {
     "output_type": "execute_result",
     "data": {
      "text/plain": [
       "'Affenpinscher'"
      ]
     },
     "metadata": {},
     "execution_count": 39
    }
   ],
   "source": [
    "response.json()['name']"
   ]
  },
  {
   "source": [
    "As you can see, after executing response __.json()__, you get a dictionary that you’re able to use as you’d use any other dictionary in Python."
   ],
   "cell_type": "markdown",
   "metadata": {}
  },
  {
   "source": [
    "## HTTP Methods\n",
    "When calling an __API__, there are a few different __methods__, also called __verbs__, that you can use to specify what action you want to execute. For example, if you wanted to fetch some data, you’d use the method __GET__, and if you wanted to create some data, then you’d use the method __POST__.\n",
    "\n",
    "When purely consuming data using __APIs__, you’ll typically stick to __GET__ requests, but here’s a list of the most common methods and their typical use case:\n",
    "\n",
    "\n",
    "HTTP Method|Description|Requests method\n",
    "----------|-----------|--------------\n",
    "POST|Create a new resource |requests.post()\n",
    "GET|Read an existing resource |requests.get()\n",
    "PUT|Update an existing resource |requests.put()\n",
    "DELETE|Delete an existing resource|requests.delete()\n",
    "\n",
    "These four methods are typically referred to as __CRUD__ operations as they allow you to _create_, _read_, _update_ and _delete_ resources."
   ],
   "cell_type": "markdown",
   "metadata": {}
  },
  {
   "cell_type": "code",
   "execution_count": 44,
   "metadata": {},
   "outputs": [
    {
     "output_type": "execute_result",
     "data": {
      "text/plain": [
       "<Response [405]>"
      ]
     },
     "metadata": {},
     "execution_count": 44
    }
   ],
   "source": [
    "# POST method\n",
    "requests.post(\"https://api.thedogapi.com/v1/breeds/1\")"
   ]
  },
  {
   "cell_type": "code",
   "execution_count": 43,
   "metadata": {},
   "outputs": [
    {
     "output_type": "execute_result",
     "data": {
      "text/plain": [
       "<Response [200]>"
      ]
     },
     "metadata": {},
     "execution_count": 43
    }
   ],
   "source": [
    "# GET method\n",
    "requests.get(\"https://api.thedogapi.com/v1/breeds/1\")"
   ]
  },
  {
   "cell_type": "code",
   "execution_count": 45,
   "metadata": {},
   "outputs": [
    {
     "output_type": "execute_result",
     "data": {
      "text/plain": [
       "<Response [405]>"
      ]
     },
     "metadata": {},
     "execution_count": 45
    }
   ],
   "source": [
    "# PUT method\n",
    "requests.put(\"https://api.thedogapi.com/v1/breeds/1\")"
   ]
  },
  {
   "cell_type": "code",
   "execution_count": 46,
   "metadata": {},
   "outputs": [
    {
     "output_type": "execute_result",
     "data": {
      "text/plain": [
       "<Response [405]>"
      ]
     },
     "metadata": {},
     "execution_count": 46
    }
   ],
   "source": [
    "# DELETE method\n",
    "requests.delete(\"https://api.thedogapi.com/v1/breeds/1\")"
   ]
  },
  {
   "source": [
    "If you try these on your console, then you’ll notice that most of them will return a __405__ Method Not Allowed status code. That’s because not all __endpoints__ will allow for __POST__, __PUT__, or __DELETE__ methods. Especially when you’re reading data using public APIs, you’ll find that most APIs will only allow __GET__ requests since you’re not allowed to create or change the existing data."
   ],
   "cell_type": "markdown",
   "metadata": {}
  },
  {
   "source": [
    "## Query Parameters\n",
    "Sometimes when you call an __API__, you get a ton of data that you don’t need or want. For example, when calling __TheDogAPI’s__ /breeds endpoint, you get a lot of information about a given breed. But in some cases, you might want to extract only certain information about a given breed. That’s where query parameters come in!\n",
    "\n",
    "You might have seen or used query parameters when browsing online. For example when watching a YouTube video, you have a URL like https://www.youtube.com/watch?v=aL5GK2LVMWI. The v= in the URL is what you call a __query parameter__. It typically comes after the base URL and endpoint.\n",
    "\n",
    "To add a query parameter to a given URL, you have to add a question mark (?) before the first query parameter. If you want to have multiple query parameters in your request, then you can split them with an ampersand (&).\n",
    "\n",
    "The same YouTube URL above with multiple query parameters would look like this: https://www.youtube.com/watch?v=aL5GK2LVMWI&t=75.\n",
    "\n",
    "In the __API__ world, query parameters are used as filters you can send with your API request to further narrow down the responses. For example, going back to the Random User Generator API, you know how to generate a random user:"
   ],
   "cell_type": "markdown",
   "metadata": {}
  },
  {
   "cell_type": "code",
   "execution_count": 47,
   "metadata": {},
   "outputs": [
    {
     "output_type": "execute_result",
     "data": {
      "text/plain": [
       "{'results': [{'gender': 'female',\n",
       "   'name': {'title': 'Ms', 'first': 'Ann', 'last': 'Butler'},\n",
       "   'location': {'street': {'number': 6467, 'name': 'Stevens Creek Blvd'},\n",
       "    'city': 'Geelong',\n",
       "    'state': 'Western Australia',\n",
       "    'country': 'Australia',\n",
       "    'postcode': 7331,\n",
       "    'coordinates': {'latitude': '-86.2314', 'longitude': '112.4049'},\n",
       "    'timezone': {'offset': '+3:00',\n",
       "     'description': 'Baghdad, Riyadh, Moscow, St. Petersburg'}},\n",
       "   'email': 'ann.butler@example.com',\n",
       "   'login': {'uuid': '01e9ac5e-e4fb-43c8-a1fa-4436f4f410a1',\n",
       "    'username': 'purplefish371',\n",
       "    'password': 'woodman',\n",
       "    'salt': 'q8TpXGAf',\n",
       "    'md5': '23ee23230e39e420cc7f29554c3c4996',\n",
       "    'sha1': '477c5f9158ebf643c7ae1825b80b85367ab9f72b',\n",
       "    'sha256': '3753ca2e7e1f86ee26869502717a7d5891f07a4fe65276f4fa279dfe9e792224'},\n",
       "   'dob': {'date': '1954-10-27T19:07:48.156Z', 'age': 67},\n",
       "   'registered': {'date': '2009-05-26T18:13:03.294Z', 'age': 12},\n",
       "   'phone': '02-9210-6136',\n",
       "   'cell': '0436-090-444',\n",
       "   'id': {'name': 'TFN', 'value': '124355062'},\n",
       "   'picture': {'large': 'https://randomuser.me/api/portraits/women/93.jpg',\n",
       "    'medium': 'https://randomuser.me/api/portraits/med/women/93.jpg',\n",
       "    'thumbnail': 'https://randomuser.me/api/portraits/thumb/women/93.jpg'},\n",
       "   'nat': 'AU'}],\n",
       " 'info': {'seed': '84b64ef37f817907',\n",
       "  'results': 1,\n",
       "  'page': 1,\n",
       "  'version': '1.3'}}"
      ]
     },
     "metadata": {},
     "execution_count": 47
    }
   ],
   "source": [
    "requests.get(\"https://randomuser.me/api/\").json()"
   ]
  },
  {
   "source": [
    "However, let’s say you specifically want to generate only random female users. According to the documentation, you can use the query parameter gender= for that:"
   ],
   "cell_type": "markdown",
   "metadata": {}
  },
  {
   "cell_type": "code",
   "execution_count": 48,
   "metadata": {},
   "outputs": [
    {
     "output_type": "execute_result",
     "data": {
      "text/plain": [
       "{'results': [{'gender': 'female',\n",
       "   'name': {'title': 'Miss', 'first': 'Silje', 'last': 'Poulsen'},\n",
       "   'location': {'street': {'number': 9608, 'name': 'Morbærvej'},\n",
       "    'city': 'Sundby',\n",
       "    'state': 'Sjælland',\n",
       "    'country': 'Denmark',\n",
       "    'postcode': 19269,\n",
       "    'coordinates': {'latitude': '-36.6274', 'longitude': '129.9459'},\n",
       "    'timezone': {'offset': '+5:30',\n",
       "     'description': 'Bombay, Calcutta, Madras, New Delhi'}},\n",
       "   'email': 'silje.poulsen@example.com',\n",
       "   'login': {'uuid': 'd3bf8db1-9413-45b4-89df-f69cdfc00e69',\n",
       "    'username': 'ticklishwolf952',\n",
       "    'password': 'mark',\n",
       "    'salt': 'KrgotUpF',\n",
       "    'md5': '6ead4d4da25786dbad0bd2e23484ae46',\n",
       "    'sha1': '875dc17d68093579afbf6fea6b2491ad16264b03',\n",
       "    'sha256': '89c0862c78740f0bba62c0e0c8ac2b5a16f2930a78d9d94751e01467211ce498'},\n",
       "   'dob': {'date': '1968-01-28T03:25:55.660Z', 'age': 53},\n",
       "   'registered': {'date': '2012-12-14T13:33:18.167Z', 'age': 9},\n",
       "   'phone': '89700835',\n",
       "   'cell': '43244712',\n",
       "   'id': {'name': 'CPR', 'value': '280168-3856'},\n",
       "   'picture': {'large': 'https://randomuser.me/api/portraits/women/74.jpg',\n",
       "    'medium': 'https://randomuser.me/api/portraits/med/women/74.jpg',\n",
       "    'thumbnail': 'https://randomuser.me/api/portraits/thumb/women/74.jpg'},\n",
       "   'nat': 'DK'}],\n",
       " 'info': {'seed': '2a173ac57bdec397',\n",
       "  'results': 1,\n",
       "  'page': 1,\n",
       "  'version': '1.3'}}"
      ]
     },
     "metadata": {},
     "execution_count": 48
    }
   ],
   "source": [
    "requests.get(\"https://randomuser.me/api/?gender=female\").json()"
   ]
  },
  {
   "source": [
    "That’s great! Now let’s say you want to generate only female users from Germany. Again, looking through the documentation, you find a section on nationality, and you can use the query parameter nat= for that:"
   ],
   "cell_type": "markdown",
   "metadata": {}
  },
  {
   "cell_type": "code",
   "execution_count": 49,
   "metadata": {},
   "outputs": [
    {
     "output_type": "execute_result",
     "data": {
      "text/plain": [
       "{'results': [{'gender': 'female',\n",
       "   'name': {'title': 'Ms', 'first': 'Wilhelmine', 'last': 'Steinmetz'},\n",
       "   'location': {'street': {'number': 4617, 'name': 'Schulstraße'},\n",
       "    'city': 'Lünen',\n",
       "    'state': 'Hamburg',\n",
       "    'country': 'Germany',\n",
       "    'postcode': 13159,\n",
       "    'coordinates': {'latitude': '69.9980', 'longitude': '174.8365'},\n",
       "    'timezone': {'offset': '+3:30', 'description': 'Tehran'}},\n",
       "   'email': 'wilhelmine.steinmetz@example.com',\n",
       "   'login': {'uuid': 'de97d850-7799-4afb-bde3-ef102dfb459c',\n",
       "    'username': 'tinyduck942',\n",
       "    'password': 'sparkle',\n",
       "    'salt': 'ECLJN0UR',\n",
       "    'md5': '2275bbc48264e2884ab7627d53971fed',\n",
       "    'sha1': '4b2a542a75ab84db44e55cc300af882b2c2fea68',\n",
       "    'sha256': '825d59004e437ac06073cf70b5c6c363b76f40ca4172c66f88772be2498e588a'},\n",
       "   'dob': {'date': '1998-05-28T04:53:48.726Z', 'age': 23},\n",
       "   'registered': {'date': '2003-05-12T02:02:50.007Z', 'age': 18},\n",
       "   'phone': '0189-7236716',\n",
       "   'cell': '0177-5316192',\n",
       "   'id': {'name': '', 'value': None},\n",
       "   'picture': {'large': 'https://randomuser.me/api/portraits/women/0.jpg',\n",
       "    'medium': 'https://randomuser.me/api/portraits/med/women/0.jpg',\n",
       "    'thumbnail': 'https://randomuser.me/api/portraits/thumb/women/0.jpg'},\n",
       "   'nat': 'DE'}],\n",
       " 'info': {'seed': 'bcb0680cbcedf128',\n",
       "  'results': 1,\n",
       "  'page': 1,\n",
       "  'version': '1.3'}}"
      ]
     },
     "metadata": {},
     "execution_count": 49
    }
   ],
   "source": [
    "requests.get(\"https://randomuser.me/api/?gender=female&nat=de\").json()"
   ]
  },
  {
   "source": [
    "Using query parameters, you can start fetching more specific data from an API, making the whole experience a bit more tailored to your needs.\n",
    "\n",
    "To avoid having to rebuild the URL over and over again, you can use the __params__ attribute to send in a dictionary of all query parameters to append to a URL:"
   ],
   "cell_type": "markdown",
   "metadata": {}
  },
  {
   "cell_type": "code",
   "execution_count": 50,
   "metadata": {},
   "outputs": [
    {
     "output_type": "execute_result",
     "data": {
      "text/plain": [
       "{'results': [{'gender': 'female',\n",
       "   'name': {'title': 'Miss', 'first': 'Elizabeth', 'last': 'Höft'},\n",
       "   'location': {'street': {'number': 4913, 'name': 'Gartenstraße'},\n",
       "    'city': 'Rahden',\n",
       "    'state': 'Hamburg',\n",
       "    'country': 'Germany',\n",
       "    'postcode': 29399,\n",
       "    'coordinates': {'latitude': '-64.4183', 'longitude': '-86.5725'},\n",
       "    'timezone': {'offset': '-10:00', 'description': 'Hawaii'}},\n",
       "   'email': 'elizabeth.hoft@example.com',\n",
       "   'login': {'uuid': '63175b53-4bff-4c9c-887a-227914213877',\n",
       "    'username': 'lazymouse230',\n",
       "    'password': 'link',\n",
       "    'salt': 'sS07XMVY',\n",
       "    'md5': '60cf656dd7a2d3c045c01fd26510e351',\n",
       "    'sha1': 'fae767ace52be2e67d9cdd875d5b3245788678ad',\n",
       "    'sha256': 'bb2b529cb1e80d480d9d2a56ae2777b8ca7e617c05cbce33d69f106465a205e6'},\n",
       "   'dob': {'date': '1953-07-11T10:30:35.352Z', 'age': 68},\n",
       "   'registered': {'date': '2010-10-19T13:18:50.705Z', 'age': 11},\n",
       "   'phone': '0121-0254430',\n",
       "   'cell': '0172-2146242',\n",
       "   'id': {'name': '', 'value': None},\n",
       "   'picture': {'large': 'https://randomuser.me/api/portraits/women/58.jpg',\n",
       "    'medium': 'https://randomuser.me/api/portraits/med/women/58.jpg',\n",
       "    'thumbnail': 'https://randomuser.me/api/portraits/thumb/women/58.jpg'},\n",
       "   'nat': 'DE'}],\n",
       " 'info': {'seed': '8b955ca824c5effd',\n",
       "  'results': 1,\n",
       "  'page': 1,\n",
       "  'version': '1.3'}}"
      ]
     },
     "metadata": {},
     "execution_count": 50
    }
   ],
   "source": [
    "query_params = {\"gender\": \"female\", \"nat\": \"de\"}\n",
    "requests.get(\"https://randomuser.me/api/\", params=query_params).json()"
   ]
  },
  {
   "source": [
    "You can apply the above to any other API you like. If you go back to TheDogAPI, the documentation has a way for you to filter the breeds endpoint to return only the breeds that match a specific name. For example, if you wanted to look for the Labradoodle breed, then you could do that with the query parameter q:"
   ],
   "cell_type": "markdown",
   "metadata": {}
  },
  {
   "cell_type": "code",
   "execution_count": 51,
   "metadata": {},
   "outputs": [
    {
     "output_type": "execute_result",
     "data": {
      "text/plain": [
       "[{'weight': {'imperial': '45 - 100', 'metric': '20 - 45'},\n",
       "  'height': {'imperial': '14 - 24', 'metric': '36 - 61'},\n",
       "  'id': 148,\n",
       "  'name': 'Labradoodle',\n",
       "  'breed_group': 'Mixed',\n",
       "  'life_span': '10 - 15 years'}]"
      ]
     },
     "metadata": {},
     "execution_count": 51
    }
   ],
   "source": [
    "query_params = {\"q\": \"labradoodle\"}\n",
    "endpoint = \"https://api.thedogapi.com/v1/breeds/search\"\n",
    "requests.get(endpoint, params=query_params).json()"
   ]
  },
  {
   "source": [
    "There you have it! By sending the query parameter q with the value labradoodle, you’re able to filter all breeds that match that specific value.\n",
    "\n",
    "_REMARK:_ When you’re reusing the same endpoint, it’s a best practice to define it as a variable at the top of your code. This will make your life easier when interacting with an API over and over again."
   ],
   "cell_type": "markdown",
   "metadata": {}
  },
  {
   "source": [
    "#### References\n",
    "1. https://realpython.com/python-api/"
   ],
   "cell_type": "markdown",
   "metadata": {}
  }
 ]
}