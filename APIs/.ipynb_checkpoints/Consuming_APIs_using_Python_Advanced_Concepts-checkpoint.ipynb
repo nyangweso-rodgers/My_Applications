{
 "cells": [
  {
   "cell_type": "markdown",
   "metadata": {},
   "source": [
    "## Learning Advanced API Concepts\n",
    "\n",
    "### Learning Objectives\n",
    "* authentication, \n",
    "* pagination, and \n",
    "* rate limiting."
   ]
  },
  {
   "cell_type": "markdown",
   "metadata": {},
   "source": [
    "## Authentication\n",
    "Even though a lot of public APIs are free and completely public, an even bigger number of APIs are available behind some form of authentication. There are numerous APIs that require authentication, but here are a few good examples:\n",
    "* GitHub API (https://docs.github.com/en/rest)\n",
    "* Twitter API (https://developer.twitter.com/en/docs)\n",
    "* Instagram API (https://developers.facebook.com/docs/instagram-basic-display-api)\n",
    "\n",
    "Authentication approaches range from the simplistic and straightforward, like those using __API keys__ or __Basic Authentication__, to much more complex and safer techniques, like __OAuth__.\n",
    "\n",
    "Typically, calling an API without credentials or with the wrong ones will return a __401__ Unauthorized or __403__ Forbidden status code."
   ]
  },
  {
   "cell_type": "markdown",
   "metadata": {},
   "source": [
    "## API Keys\n",
    "The most common level of authentication is the __API key__. These keys are used to identify you as an API user or customer and to trace your use of the API. API keys are typically sent as a request header or as a query parameter."
   ]
  },
  {
   "cell_type": "markdown",
   "metadata": {},
   "source": [
    "### NASA APIs: \n",
    "One of the coolest collections of publicly available APIs is the one provided by NASA. You can find APIs to fetch the astronomy picture of the day or pictures taken by the Earth Polychromatic Imaging Camera (EPIC), among others."
   ]
  },
  {
   "cell_type": "code",
   "execution_count": 11,
   "metadata": {},
   "outputs": [
    {
     "data": {
      "text/plain": [
       "<Response [200]>"
      ]
     },
     "execution_count": 11,
     "metadata": {},
     "output_type": "execute_result"
    }
   ],
   "source": [
    "import requests\n",
    "endpoint = \"https://api.nasa.gov/mars-photos/api/v1/rovers/curiosity/photos\"\n",
    "api_key = 'atkX4KALQzHOkh5FPva8CCAdeORNTOlJlmZOAEXO'\n",
    "query_params = {\"api_key\": api_key, \"earth_date\": \"2020-07-01\"}\n",
    "response = requests.get(endpoint, params=query_params)\n",
    "response"
   ]
  },
  {
   "cell_type": "markdown",
   "metadata": {},
   "source": [
    "So far, so good. You managed to make an authenticated request to __NASA’s__ API and to get back a 200 OK response. \n",
    "\n",
    "Now have a look at the Response object and try to extract some pictures from it:"
   ]
  },
  {
   "cell_type": "code",
   "execution_count": 12,
   "metadata": {},
   "outputs": [
    {
     "data": {
      "text/plain": [
       "{'photos': [{'id': 754118,\n",
       "   'sol': 2809,\n",
       "   'camera': {'id': 20,\n",
       "    'name': 'FHAZ',\n",
       "    'rover_id': 5,\n",
       "    'full_name': 'Front Hazard Avoidance Camera'},\n",
       "   'img_src': 'https://mars.nasa.gov/msl-raw-images/proj/msl/redops/ods/surface/sol/02809/opgs/edr/fcam/FLB_646868981EDR_F0810628FHAZ00337M_.JPG',\n",
       "   'earth_date': '2020-07-01',\n",
       "   'rover': {'id': 5,\n",
       "    'name': 'Curiosity',\n",
       "    'landing_date': '2012-08-06',\n",
       "    'launch_date': '2011-11-26',\n",
       "    'status': 'active'}},\n",
       "  {'id': 754119,\n",
       "   'sol': 2809,\n",
       "   'camera': {'id': 20,\n",
       "    'name': 'FHAZ',\n",
       "    'rover_id': 5,\n",
       "    'full_name': 'Front Hazard Avoidance Camera'},\n",
       "   'img_src': 'https://mars.nasa.gov/msl-raw-images/proj/msl/redops/ods/surface/sol/02809/opgs/edr/fcam/FRB_646868981EDR_F0810628FHAZ00337M_.JPG',\n",
       "   'earth_date': '2020-07-01',\n",
       "   'rover': {'id': 5,\n",
       "    'name': 'Curiosity',\n",
       "    'landing_date': '2012-08-06',\n",
       "    'launch_date': '2011-11-26',\n",
       "    'status': 'active'}},\n",
       "  {'id': 754120,\n",
       "   'sol': 2809,\n",
       "   'camera': {'id': 20,\n",
       "    'name': 'FHAZ',\n",
       "    'rover_id': 5,\n",
       "    'full_name': 'Front Hazard Avoidance Camera'},\n",
       "   'img_src': 'https://mars.nasa.gov/msl-raw-images/proj/msl/redops/ods/surface/sol/02809/opgs/edr/fcam/FRB_646860144EDR_F0810628FHAZ00337M_.JPG',\n",
       "   'earth_date': '2020-07-01',\n",
       "   'rover': {'id': 5,\n",
       "    'name': 'Curiosity',\n",
       "    'landing_date': '2012-08-06',\n",
       "    'launch_date': '2011-11-26',\n",
       "    'status': 'active'}},\n",
       "  {'id': 754121,\n",
       "   'sol': 2809,\n",
       "   'camera': {'id': 20,\n",
       "    'name': 'FHAZ',\n",
       "    'rover_id': 5,\n",
       "    'full_name': 'Front Hazard Avoidance Camera'},\n",
       "   'img_src': 'https://mars.nasa.gov/msl-raw-images/proj/msl/redops/ods/surface/sol/02809/opgs/edr/fcam/FLB_646860144EDR_F0810628FHAZ00337M_.JPG',\n",
       "   'earth_date': '2020-07-01',\n",
       "   'rover': {'id': 5,\n",
       "    'name': 'Curiosity',\n",
       "    'landing_date': '2012-08-06',\n",
       "    'launch_date': '2011-11-26',\n",
       "    'status': 'active'}},\n",
       "  {'id': 754122,\n",
       "   'sol': 2809,\n",
       "   'camera': {'id': 21,\n",
       "    'name': 'RHAZ',\n",
       "    'rover_id': 5,\n",
       "    'full_name': 'Rear Hazard Avoidance Camera'},\n",
       "   'img_src': 'https://mars.nasa.gov/msl-raw-images/proj/msl/redops/ods/surface/sol/02809/opgs/edr/rcam/RRB_646869036EDR_F0810628RHAZ00337M_.JPG',\n",
       "   'earth_date': '2020-07-01',\n",
       "   'rover': {'id': 5,\n",
       "    'name': 'Curiosity',\n",
       "    'landing_date': '2012-08-06',\n",
       "    'launch_date': '2011-11-26',\n",
       "    'status': 'active'}},\n",
       "  {'id': 754123,\n",
       "   'sol': 2809,\n",
       "   'camera': {'id': 21,\n",
       "    'name': 'RHAZ',\n",
       "    'rover_id': 5,\n",
       "    'full_name': 'Rear Hazard Avoidance Camera'},\n",
       "   'img_src': 'https://mars.nasa.gov/msl-raw-images/proj/msl/redops/ods/surface/sol/02809/opgs/edr/rcam/RLB_646869036EDR_F0810628RHAZ00337M_.JPG',\n",
       "   'earth_date': '2020-07-01',\n",
       "   'rover': {'id': 5,\n",
       "    'name': 'Curiosity',\n",
       "    'landing_date': '2012-08-06',\n",
       "    'launch_date': '2011-11-26',\n",
       "    'status': 'active'}},\n",
       "  {'id': 754124,\n",
       "   'sol': 2809,\n",
       "   'camera': {'id': 21,\n",
       "    'name': 'RHAZ',\n",
       "    'rover_id': 5,\n",
       "    'full_name': 'Rear Hazard Avoidance Camera'},\n",
       "   'img_src': 'https://mars.nasa.gov/msl-raw-images/proj/msl/redops/ods/surface/sol/02809/opgs/edr/rcam/RRB_646860185EDR_F0810628RHAZ00337M_.JPG',\n",
       "   'earth_date': '2020-07-01',\n",
       "   'rover': {'id': 5,\n",
       "    'name': 'Curiosity',\n",
       "    'landing_date': '2012-08-06',\n",
       "    'launch_date': '2011-11-26',\n",
       "    'status': 'active'}},\n",
       "  {'id': 754125,\n",
       "   'sol': 2809,\n",
       "   'camera': {'id': 21,\n",
       "    'name': 'RHAZ',\n",
       "    'rover_id': 5,\n",
       "    'full_name': 'Rear Hazard Avoidance Camera'},\n",
       "   'img_src': 'https://mars.nasa.gov/msl-raw-images/proj/msl/redops/ods/surface/sol/02809/opgs/edr/rcam/RLB_646860185EDR_F0810628RHAZ00337M_.JPG',\n",
       "   'earth_date': '2020-07-01',\n",
       "   'rover': {'id': 5,\n",
       "    'name': 'Curiosity',\n",
       "    'landing_date': '2012-08-06',\n",
       "    'launch_date': '2011-11-26',\n",
       "    'status': 'active'}},\n",
       "  {'id': 754126,\n",
       "   'sol': 2809,\n",
       "   'camera': {'id': 26,\n",
       "    'name': 'NAVCAM',\n",
       "    'rover_id': 5,\n",
       "    'full_name': 'Navigation Camera'},\n",
       "   'img_src': 'https://mars.nasa.gov/msl-raw-images/proj/msl/redops/ods/surface/sol/02809/opgs/edr/ncam/NLB_646869070EDR_F0810628NCAM00229M_.JPG',\n",
       "   'earth_date': '2020-07-01',\n",
       "   'rover': {'id': 5,\n",
       "    'name': 'Curiosity',\n",
       "    'landing_date': '2012-08-06',\n",
       "    'launch_date': '2011-11-26',\n",
       "    'status': 'active'}},\n",
       "  {'id': 754127,\n",
       "   'sol': 2809,\n",
       "   'camera': {'id': 26,\n",
       "    'name': 'NAVCAM',\n",
       "    'rover_id': 5,\n",
       "    'full_name': 'Navigation Camera'},\n",
       "   'img_src': 'https://mars.nasa.gov/msl-raw-images/proj/msl/redops/ods/surface/sol/02809/opgs/edr/ncam/NLB_646860211EDR_F0810628NCAM00229M_.JPG',\n",
       "   'earth_date': '2020-07-01',\n",
       "   'rover': {'id': 5,\n",
       "    'name': 'Curiosity',\n",
       "    'landing_date': '2012-08-06',\n",
       "    'launch_date': '2011-11-26',\n",
       "    'status': 'active'}},\n",
       "  {'id': 754128,\n",
       "   'sol': 2809,\n",
       "   'camera': {'id': 26,\n",
       "    'name': 'NAVCAM',\n",
       "    'rover_id': 5,\n",
       "    'full_name': 'Navigation Camera'},\n",
       "   'img_src': 'https://mars.nasa.gov/msl-raw-images/proj/msl/redops/ods/surface/sol/02809/opgs/edr/ncam/NRB_646869070EDR_F0810628NCAM00229M_.JPG',\n",
       "   'earth_date': '2020-07-01',\n",
       "   'rover': {'id': 5,\n",
       "    'name': 'Curiosity',\n",
       "    'landing_date': '2012-08-06',\n",
       "    'launch_date': '2011-11-26',\n",
       "    'status': 'active'}},\n",
       "  {'id': 754129,\n",
       "   'sol': 2809,\n",
       "   'camera': {'id': 26,\n",
       "    'name': 'NAVCAM',\n",
       "    'rover_id': 5,\n",
       "    'full_name': 'Navigation Camera'},\n",
       "   'img_src': 'https://mars.nasa.gov/msl-raw-images/proj/msl/redops/ods/surface/sol/02809/opgs/edr/ncam/NRB_646860211EDR_F0810628NCAM00229M_.JPG',\n",
       "   'earth_date': '2020-07-01',\n",
       "   'rover': {'id': 5,\n",
       "    'name': 'Curiosity',\n",
       "    'landing_date': '2012-08-06',\n",
       "    'launch_date': '2011-11-26',\n",
       "    'status': 'active'}}]}"
      ]
     },
     "execution_count": 12,
     "metadata": {},
     "output_type": "execute_result"
    }
   ],
   "source": [
    "response.json()"
   ]
  },
  {
   "cell_type": "code",
   "execution_count": 15,
   "metadata": {},
   "outputs": [
    {
     "name": "stdout",
     "output_type": "stream",
     "text": [
      "Found 12 photos\n"
     ]
    },
    {
     "data": {
      "text/plain": [
       "'https://mars.nasa.gov/msl-raw-images/proj/msl/redops/ods/surface/sol/02809/opgs/edr/rcam/RRB_646869036EDR_F0810628RHAZ00337M_.JPG'"
      ]
     },
     "execution_count": 15,
     "metadata": {},
     "output_type": "execute_result"
    }
   ],
   "source": [
    "photos = response.json()[\"photos\"]\n",
    "print(f\"Found {len(photos)} photos\")\n",
    "photos[4][\"img_src\"]"
   ]
  },
  {
   "cell_type": "markdown",
   "metadata": {},
   "source": [
    "Using __.json()__ to convert the response to a Python dictionary and then fetching the photos field from the response, you’re able to iterate through all Photo objects and even fetch a specific photo’s image URL. If you open that URL in your browser, then you’ll see the following picture of Mars taken by one of the Mars rovers:"
   ]
  },
  {
   "cell_type": "markdown",
   "metadata": {},
   "source": [
    "## OAuth: Getting Started\n",
    "Another very common standard in API authentication is __OAuth__.\n",
    "\n",
    "Even if you weren’t aware that it was part of __OAuth__, you may have seen and used the __OAuth__ flow multiple times. Every time an app or platform has a __Login With__ or __Continue With__ option, that’s the starting point of an __OAuth flow__:\n",
    "\n",
    "Now, from a more technical standpoint, here are the things you need to know when consuming APIs using OAuth:\n",
    "* You need to create an application that will have an ID (app_id or client_id) and a secret (app_secret or client_secret).\n",
    "* You need to have a redirect URL (redirect_uri), which the API will use to send information to you.\n",
    "* You’ll get a code as the result of the authentication, which you need to exchange for an access token."
   ]
  },
  {
   "cell_type": "code",
   "execution_count": null,
   "metadata": {},
   "outputs": [],
   "source": []
  },
  {
   "cell_type": "code",
   "execution_count": null,
   "metadata": {},
   "outputs": [],
   "source": []
  },
  {
   "cell_type": "code",
   "execution_count": null,
   "metadata": {},
   "outputs": [],
   "source": []
  },
  {
   "cell_type": "code",
   "execution_count": null,
   "metadata": {},
   "outputs": [],
   "source": []
  },
  {
   "cell_type": "code",
   "execution_count": null,
   "metadata": {},
   "outputs": [],
   "source": [
    "from flask import Flask\n",
    "print(dir(Flask))"
   ]
  },
  {
   "cell_type": "markdown",
   "metadata": {},
   "source": [
    "#### References\n",
    "1. https://realpython.com/python-api/"
   ]
  }
 ],
 "metadata": {
  "kernelspec": {
   "display_name": "Python 3",
   "language": "python",
   "name": "python3"
  },
  "language_info": {
   "codemirror_mode": {
    "name": "ipython",
    "version": 3
   },
   "file_extension": ".py",
   "mimetype": "text/x-python",
   "name": "python",
   "nbconvert_exporter": "python",
   "pygments_lexer": "ipython3",
   "version": "3.7.6"
  }
 },
 "nbformat": 4,
 "nbformat_minor": 2
}
